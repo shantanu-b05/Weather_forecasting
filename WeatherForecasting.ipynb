{
 "cells": [
  {
   "cell_type": "code",
   "execution_count": 762,
   "metadata": {},
   "outputs": [],
   "source": [
    "import pandas as pd\n",
    "import seaborn as sn\n",
    "from sklearn.preprocessing import LabelEncoder, OneHotEncoder,MinMaxScaler\n",
    "from keras.models import Sequential \n",
    "from keras.layers import Dense \n",
    "from keras.layers import LSTM,Activation,Dropout\n",
    "from sklearn.metrics import mean_squared_error"
   ]
  },
  {
   "cell_type": "code",
   "execution_count": 696,
   "metadata": {},
   "outputs": [],
   "source": [
    "from matplotlib import pyplot\n",
    "import numpy as np"
   ]
  },
  {
   "cell_type": "code",
   "execution_count": 697,
   "metadata": {},
   "outputs": [],
   "source": [
    "df=pd.read_csv(\"weatherHistory.csv\")"
   ]
  },
  {
   "cell_type": "code",
   "execution_count": 698,
   "metadata": {},
   "outputs": [
    {
     "name": "stdout",
     "output_type": "stream",
     "text": [
      "<class 'pandas.core.frame.DataFrame'>\n",
      "RangeIndex: 96453 entries, 0 to 96452\n",
      "Data columns (total 12 columns):\n",
      "Formatted Date              96453 non-null object\n",
      "Summary                     96453 non-null object\n",
      "Precip Type                 95936 non-null object\n",
      "Temperature (C)             96453 non-null float64\n",
      "Apparent Temperature (C)    96453 non-null float64\n",
      "Humidity                    96453 non-null float64\n",
      "Wind Speed (km/h)           96453 non-null float64\n",
      "Wind Bearing (degrees)      96453 non-null int64\n",
      "Visibility (km)             96453 non-null float64\n",
      "Loud Cover                  96453 non-null int64\n",
      "Pressure (millibars)        96453 non-null float64\n",
      "Daily Summary               96453 non-null object\n",
      "dtypes: float64(6), int64(2), object(4)\n",
      "memory usage: 8.8+ MB\n"
     ]
    }
   ],
   "source": [
    "df.info()"
   ]
  },
  {
   "cell_type": "code",
   "execution_count": 699,
   "metadata": {},
   "outputs": [
    {
     "data": {
      "text/html": [
       "<div>\n",
       "<style scoped>\n",
       "    .dataframe tbody tr th:only-of-type {\n",
       "        vertical-align: middle;\n",
       "    }\n",
       "\n",
       "    .dataframe tbody tr th {\n",
       "        vertical-align: top;\n",
       "    }\n",
       "\n",
       "    .dataframe thead th {\n",
       "        text-align: right;\n",
       "    }\n",
       "</style>\n",
       "<table border=\"1\" class=\"dataframe\">\n",
       "  <thead>\n",
       "    <tr style=\"text-align: right;\">\n",
       "      <th></th>\n",
       "      <th>Formatted Date</th>\n",
       "      <th>Summary</th>\n",
       "      <th>Precip Type</th>\n",
       "      <th>Temperature (C)</th>\n",
       "      <th>Apparent Temperature (C)</th>\n",
       "      <th>Humidity</th>\n",
       "      <th>Wind Speed (km/h)</th>\n",
       "      <th>Wind Bearing (degrees)</th>\n",
       "      <th>Visibility (km)</th>\n",
       "      <th>Loud Cover</th>\n",
       "      <th>Pressure (millibars)</th>\n",
       "      <th>Daily Summary</th>\n",
       "    </tr>\n",
       "  </thead>\n",
       "  <tbody>\n",
       "    <tr>\n",
       "      <th>0</th>\n",
       "      <td>2006-04-01 00:00:00.000 +0200</td>\n",
       "      <td>Partly Cloudy</td>\n",
       "      <td>rain</td>\n",
       "      <td>9.472222</td>\n",
       "      <td>7.388889</td>\n",
       "      <td>0.89</td>\n",
       "      <td>14.1197</td>\n",
       "      <td>251</td>\n",
       "      <td>15.8263</td>\n",
       "      <td>0</td>\n",
       "      <td>1015.13</td>\n",
       "      <td>Partly cloudy throughout the day.</td>\n",
       "    </tr>\n",
       "    <tr>\n",
       "      <th>1</th>\n",
       "      <td>2006-04-01 01:00:00.000 +0200</td>\n",
       "      <td>Partly Cloudy</td>\n",
       "      <td>rain</td>\n",
       "      <td>9.355556</td>\n",
       "      <td>7.227778</td>\n",
       "      <td>0.86</td>\n",
       "      <td>14.2646</td>\n",
       "      <td>259</td>\n",
       "      <td>15.8263</td>\n",
       "      <td>0</td>\n",
       "      <td>1015.63</td>\n",
       "      <td>Partly cloudy throughout the day.</td>\n",
       "    </tr>\n",
       "    <tr>\n",
       "      <th>2</th>\n",
       "      <td>2006-04-01 02:00:00.000 +0200</td>\n",
       "      <td>Mostly Cloudy</td>\n",
       "      <td>rain</td>\n",
       "      <td>9.377778</td>\n",
       "      <td>9.377778</td>\n",
       "      <td>0.89</td>\n",
       "      <td>3.9284</td>\n",
       "      <td>204</td>\n",
       "      <td>14.9569</td>\n",
       "      <td>0</td>\n",
       "      <td>1015.94</td>\n",
       "      <td>Partly cloudy throughout the day.</td>\n",
       "    </tr>\n",
       "    <tr>\n",
       "      <th>3</th>\n",
       "      <td>2006-04-01 03:00:00.000 +0200</td>\n",
       "      <td>Partly Cloudy</td>\n",
       "      <td>rain</td>\n",
       "      <td>8.288889</td>\n",
       "      <td>5.944444</td>\n",
       "      <td>0.83</td>\n",
       "      <td>14.1036</td>\n",
       "      <td>269</td>\n",
       "      <td>15.8263</td>\n",
       "      <td>0</td>\n",
       "      <td>1016.41</td>\n",
       "      <td>Partly cloudy throughout the day.</td>\n",
       "    </tr>\n",
       "    <tr>\n",
       "      <th>4</th>\n",
       "      <td>2006-04-01 04:00:00.000 +0200</td>\n",
       "      <td>Mostly Cloudy</td>\n",
       "      <td>rain</td>\n",
       "      <td>8.755556</td>\n",
       "      <td>6.977778</td>\n",
       "      <td>0.83</td>\n",
       "      <td>11.0446</td>\n",
       "      <td>259</td>\n",
       "      <td>15.8263</td>\n",
       "      <td>0</td>\n",
       "      <td>1016.51</td>\n",
       "      <td>Partly cloudy throughout the day.</td>\n",
       "    </tr>\n",
       "  </tbody>\n",
       "</table>\n",
       "</div>"
      ],
      "text/plain": [
       "                  Formatted Date        Summary Precip Type  Temperature (C)  \\\n",
       "0  2006-04-01 00:00:00.000 +0200  Partly Cloudy        rain         9.472222   \n",
       "1  2006-04-01 01:00:00.000 +0200  Partly Cloudy        rain         9.355556   \n",
       "2  2006-04-01 02:00:00.000 +0200  Mostly Cloudy        rain         9.377778   \n",
       "3  2006-04-01 03:00:00.000 +0200  Partly Cloudy        rain         8.288889   \n",
       "4  2006-04-01 04:00:00.000 +0200  Mostly Cloudy        rain         8.755556   \n",
       "\n",
       "   Apparent Temperature (C)  Humidity  Wind Speed (km/h)  \\\n",
       "0                  7.388889      0.89            14.1197   \n",
       "1                  7.227778      0.86            14.2646   \n",
       "2                  9.377778      0.89             3.9284   \n",
       "3                  5.944444      0.83            14.1036   \n",
       "4                  6.977778      0.83            11.0446   \n",
       "\n",
       "   Wind Bearing (degrees)  Visibility (km)  Loud Cover  Pressure (millibars)  \\\n",
       "0                     251          15.8263           0               1015.13   \n",
       "1                     259          15.8263           0               1015.63   \n",
       "2                     204          14.9569           0               1015.94   \n",
       "3                     269          15.8263           0               1016.41   \n",
       "4                     259          15.8263           0               1016.51   \n",
       "\n",
       "                       Daily Summary  \n",
       "0  Partly cloudy throughout the day.  \n",
       "1  Partly cloudy throughout the day.  \n",
       "2  Partly cloudy throughout the day.  \n",
       "3  Partly cloudy throughout the day.  \n",
       "4  Partly cloudy throughout the day.  "
      ]
     },
     "execution_count": 699,
     "metadata": {},
     "output_type": "execute_result"
    }
   ],
   "source": [
    "df.head()"
   ]
  },
  {
   "cell_type": "code",
   "execution_count": 700,
   "metadata": {},
   "outputs": [],
   "source": [
    "df=df.drop(['Daily Summary'],axis=1)"
   ]
  },
  {
   "cell_type": "code",
   "execution_count": 701,
   "metadata": {},
   "outputs": [
    {
     "data": {
      "text/plain": [
       "Formatted Date                0\n",
       "Summary                       0\n",
       "Precip Type                 517\n",
       "Temperature (C)               0\n",
       "Apparent Temperature (C)      0\n",
       "Humidity                      0\n",
       "Wind Speed (km/h)             0\n",
       "Wind Bearing (degrees)        0\n",
       "Visibility (km)               0\n",
       "Loud Cover                    0\n",
       "Pressure (millibars)          0\n",
       "dtype: int64"
      ]
     },
     "execution_count": 701,
     "metadata": {},
     "output_type": "execute_result"
    }
   ],
   "source": [
    "df.isnull().sum()"
   ]
  },
  {
   "cell_type": "code",
   "execution_count": 702,
   "metadata": {},
   "outputs": [],
   "source": [
    "df.rename(columns={'Precip Type':'PrecipType'},inplace=True)"
   ]
  },
  {
   "cell_type": "code",
   "execution_count": 703,
   "metadata": {},
   "outputs": [
    {
     "name": "stderr",
     "output_type": "stream",
     "text": [
      "D:\\Anaconda3\\lib\\site-packages\\ipykernel_launcher.py:1: SettingWithCopyWarning: \n",
      "A value is trying to be set on a copy of a slice from a DataFrame\n",
      "\n",
      "See the caveats in the documentation: http://pandas.pydata.org/pandas-docs/stable/indexing.html#indexing-view-versus-copy\n",
      "  \"\"\"Entry point for launching an IPython kernel.\n",
      "D:\\Anaconda3\\lib\\site-packages\\ipykernel_launcher.py:2: SettingWithCopyWarning: \n",
      "A value is trying to be set on a copy of a slice from a DataFrame\n",
      "\n",
      "See the caveats in the documentation: http://pandas.pydata.org/pandas-docs/stable/indexing.html#indexing-view-versus-copy\n",
      "  \n"
     ]
    }
   ],
   "source": [
    "df.PrecipType[df.PrecipType == 'rain'] = 0\n",
    "df.PrecipType[df.PrecipType == 'snow'] = 1"
   ]
  },
  {
   "cell_type": "code",
   "execution_count": 704,
   "metadata": {},
   "outputs": [
    {
     "data": {
      "text/plain": [
       "Formatted Date                0\n",
       "Summary                       0\n",
       "PrecipType                  517\n",
       "Temperature (C)               0\n",
       "Apparent Temperature (C)      0\n",
       "Humidity                      0\n",
       "Wind Speed (km/h)             0\n",
       "Wind Bearing (degrees)        0\n",
       "Visibility (km)               0\n",
       "Loud Cover                    0\n",
       "Pressure (millibars)          0\n",
       "dtype: int64"
      ]
     },
     "execution_count": 704,
     "metadata": {},
     "output_type": "execute_result"
    }
   ],
   "source": [
    "df.isnull().sum()"
   ]
  },
  {
   "cell_type": "code",
   "execution_count": 705,
   "metadata": {},
   "outputs": [
    {
     "data": {
      "text/html": [
       "<div>\n",
       "<style scoped>\n",
       "    .dataframe tbody tr th:only-of-type {\n",
       "        vertical-align: middle;\n",
       "    }\n",
       "\n",
       "    .dataframe tbody tr th {\n",
       "        vertical-align: top;\n",
       "    }\n",
       "\n",
       "    .dataframe thead th {\n",
       "        text-align: right;\n",
       "    }\n",
       "</style>\n",
       "<table border=\"1\" class=\"dataframe\">\n",
       "  <thead>\n",
       "    <tr style=\"text-align: right;\">\n",
       "      <th></th>\n",
       "      <th>Formatted Date</th>\n",
       "      <th>Summary</th>\n",
       "      <th>PrecipType</th>\n",
       "      <th>Temperature (C)</th>\n",
       "      <th>Apparent Temperature (C)</th>\n",
       "      <th>Humidity</th>\n",
       "      <th>Wind Speed (km/h)</th>\n",
       "      <th>Wind Bearing (degrees)</th>\n",
       "      <th>Visibility (km)</th>\n",
       "      <th>Loud Cover</th>\n",
       "      <th>Pressure (millibars)</th>\n",
       "    </tr>\n",
       "  </thead>\n",
       "  <tbody>\n",
       "    <tr>\n",
       "      <th>0</th>\n",
       "      <td>2006-04-01 00:00:00.000 +0200</td>\n",
       "      <td>Partly Cloudy</td>\n",
       "      <td>0</td>\n",
       "      <td>9.472222</td>\n",
       "      <td>7.388889</td>\n",
       "      <td>0.89</td>\n",
       "      <td>14.1197</td>\n",
       "      <td>251</td>\n",
       "      <td>15.8263</td>\n",
       "      <td>0</td>\n",
       "      <td>1015.13</td>\n",
       "    </tr>\n",
       "    <tr>\n",
       "      <th>1</th>\n",
       "      <td>2006-04-01 01:00:00.000 +0200</td>\n",
       "      <td>Partly Cloudy</td>\n",
       "      <td>0</td>\n",
       "      <td>9.355556</td>\n",
       "      <td>7.227778</td>\n",
       "      <td>0.86</td>\n",
       "      <td>14.2646</td>\n",
       "      <td>259</td>\n",
       "      <td>15.8263</td>\n",
       "      <td>0</td>\n",
       "      <td>1015.63</td>\n",
       "    </tr>\n",
       "    <tr>\n",
       "      <th>2</th>\n",
       "      <td>2006-04-01 02:00:00.000 +0200</td>\n",
       "      <td>Mostly Cloudy</td>\n",
       "      <td>0</td>\n",
       "      <td>9.377778</td>\n",
       "      <td>9.377778</td>\n",
       "      <td>0.89</td>\n",
       "      <td>3.9284</td>\n",
       "      <td>204</td>\n",
       "      <td>14.9569</td>\n",
       "      <td>0</td>\n",
       "      <td>1015.94</td>\n",
       "    </tr>\n",
       "    <tr>\n",
       "      <th>3</th>\n",
       "      <td>2006-04-01 03:00:00.000 +0200</td>\n",
       "      <td>Partly Cloudy</td>\n",
       "      <td>0</td>\n",
       "      <td>8.288889</td>\n",
       "      <td>5.944444</td>\n",
       "      <td>0.83</td>\n",
       "      <td>14.1036</td>\n",
       "      <td>269</td>\n",
       "      <td>15.8263</td>\n",
       "      <td>0</td>\n",
       "      <td>1016.41</td>\n",
       "    </tr>\n",
       "    <tr>\n",
       "      <th>4</th>\n",
       "      <td>2006-04-01 04:00:00.000 +0200</td>\n",
       "      <td>Mostly Cloudy</td>\n",
       "      <td>0</td>\n",
       "      <td>8.755556</td>\n",
       "      <td>6.977778</td>\n",
       "      <td>0.83</td>\n",
       "      <td>11.0446</td>\n",
       "      <td>259</td>\n",
       "      <td>15.8263</td>\n",
       "      <td>0</td>\n",
       "      <td>1016.51</td>\n",
       "    </tr>\n",
       "  </tbody>\n",
       "</table>\n",
       "</div>"
      ],
      "text/plain": [
       "                  Formatted Date        Summary PrecipType  Temperature (C)  \\\n",
       "0  2006-04-01 00:00:00.000 +0200  Partly Cloudy          0         9.472222   \n",
       "1  2006-04-01 01:00:00.000 +0200  Partly Cloudy          0         9.355556   \n",
       "2  2006-04-01 02:00:00.000 +0200  Mostly Cloudy          0         9.377778   \n",
       "3  2006-04-01 03:00:00.000 +0200  Partly Cloudy          0         8.288889   \n",
       "4  2006-04-01 04:00:00.000 +0200  Mostly Cloudy          0         8.755556   \n",
       "\n",
       "   Apparent Temperature (C)  Humidity  Wind Speed (km/h)  \\\n",
       "0                  7.388889      0.89            14.1197   \n",
       "1                  7.227778      0.86            14.2646   \n",
       "2                  9.377778      0.89             3.9284   \n",
       "3                  5.944444      0.83            14.1036   \n",
       "4                  6.977778      0.83            11.0446   \n",
       "\n",
       "   Wind Bearing (degrees)  Visibility (km)  Loud Cover  Pressure (millibars)  \n",
       "0                     251          15.8263           0               1015.13  \n",
       "1                     259          15.8263           0               1015.63  \n",
       "2                     204          14.9569           0               1015.94  \n",
       "3                     269          15.8263           0               1016.41  \n",
       "4                     259          15.8263           0               1016.51  "
      ]
     },
     "execution_count": 705,
     "metadata": {},
     "output_type": "execute_result"
    }
   ],
   "source": [
    "df.head()"
   ]
  },
  {
   "cell_type": "code",
   "execution_count": 706,
   "metadata": {},
   "outputs": [],
   "source": [
    "df.fillna(0,inplace=True)"
   ]
  },
  {
   "cell_type": "code",
   "execution_count": 707,
   "metadata": {},
   "outputs": [
    {
     "data": {
      "text/plain": [
       "Formatted Date              0\n",
       "Summary                     0\n",
       "PrecipType                  0\n",
       "Temperature (C)             0\n",
       "Apparent Temperature (C)    0\n",
       "Humidity                    0\n",
       "Wind Speed (km/h)           0\n",
       "Wind Bearing (degrees)      0\n",
       "Visibility (km)             0\n",
       "Loud Cover                  0\n",
       "Pressure (millibars)        0\n",
       "dtype: int64"
      ]
     },
     "execution_count": 707,
     "metadata": {},
     "output_type": "execute_result"
    }
   ],
   "source": [
    "df.isnull().sum()"
   ]
  },
  {
   "cell_type": "code",
   "execution_count": 708,
   "metadata": {},
   "outputs": [],
   "source": [
    "df.rename(columns={\"Temperature (C)\":\"Temperature\",\"Wind Speed (km/h)\":\"WindSpeed\",\"Wind Bearing (degrees)\":\"WindBearings\",\"Visibility (km)\":\"Visibilty\",\"Loud Cover\":\"LoudCover\",\"Pressure (millibars)\":\"Pressure\",\"Apparent Temperature (C)\":\"ApparentTemperature\"},inplace=True)"
   ]
  },
  {
   "cell_type": "code",
   "execution_count": 709,
   "metadata": {},
   "outputs": [
    {
     "data": {
      "text/html": [
       "<div>\n",
       "<style scoped>\n",
       "    .dataframe tbody tr th:only-of-type {\n",
       "        vertical-align: middle;\n",
       "    }\n",
       "\n",
       "    .dataframe tbody tr th {\n",
       "        vertical-align: top;\n",
       "    }\n",
       "\n",
       "    .dataframe thead th {\n",
       "        text-align: right;\n",
       "    }\n",
       "</style>\n",
       "<table border=\"1\" class=\"dataframe\">\n",
       "  <thead>\n",
       "    <tr style=\"text-align: right;\">\n",
       "      <th></th>\n",
       "      <th>Formatted Date</th>\n",
       "      <th>Summary</th>\n",
       "      <th>PrecipType</th>\n",
       "      <th>Temperature</th>\n",
       "      <th>ApparentTemperature</th>\n",
       "      <th>Humidity</th>\n",
       "      <th>WindSpeed</th>\n",
       "      <th>WindBearings</th>\n",
       "      <th>Visibilty</th>\n",
       "      <th>LoudCover</th>\n",
       "      <th>Pressure</th>\n",
       "    </tr>\n",
       "  </thead>\n",
       "  <tbody>\n",
       "    <tr>\n",
       "      <th>0</th>\n",
       "      <td>2006-04-01 00:00:00.000 +0200</td>\n",
       "      <td>Partly Cloudy</td>\n",
       "      <td>0</td>\n",
       "      <td>9.472222</td>\n",
       "      <td>7.388889</td>\n",
       "      <td>0.89</td>\n",
       "      <td>14.1197</td>\n",
       "      <td>251</td>\n",
       "      <td>15.8263</td>\n",
       "      <td>0</td>\n",
       "      <td>1015.13</td>\n",
       "    </tr>\n",
       "    <tr>\n",
       "      <th>1</th>\n",
       "      <td>2006-04-01 01:00:00.000 +0200</td>\n",
       "      <td>Partly Cloudy</td>\n",
       "      <td>0</td>\n",
       "      <td>9.355556</td>\n",
       "      <td>7.227778</td>\n",
       "      <td>0.86</td>\n",
       "      <td>14.2646</td>\n",
       "      <td>259</td>\n",
       "      <td>15.8263</td>\n",
       "      <td>0</td>\n",
       "      <td>1015.63</td>\n",
       "    </tr>\n",
       "    <tr>\n",
       "      <th>2</th>\n",
       "      <td>2006-04-01 02:00:00.000 +0200</td>\n",
       "      <td>Mostly Cloudy</td>\n",
       "      <td>0</td>\n",
       "      <td>9.377778</td>\n",
       "      <td>9.377778</td>\n",
       "      <td>0.89</td>\n",
       "      <td>3.9284</td>\n",
       "      <td>204</td>\n",
       "      <td>14.9569</td>\n",
       "      <td>0</td>\n",
       "      <td>1015.94</td>\n",
       "    </tr>\n",
       "    <tr>\n",
       "      <th>3</th>\n",
       "      <td>2006-04-01 03:00:00.000 +0200</td>\n",
       "      <td>Partly Cloudy</td>\n",
       "      <td>0</td>\n",
       "      <td>8.288889</td>\n",
       "      <td>5.944444</td>\n",
       "      <td>0.83</td>\n",
       "      <td>14.1036</td>\n",
       "      <td>269</td>\n",
       "      <td>15.8263</td>\n",
       "      <td>0</td>\n",
       "      <td>1016.41</td>\n",
       "    </tr>\n",
       "    <tr>\n",
       "      <th>4</th>\n",
       "      <td>2006-04-01 04:00:00.000 +0200</td>\n",
       "      <td>Mostly Cloudy</td>\n",
       "      <td>0</td>\n",
       "      <td>8.755556</td>\n",
       "      <td>6.977778</td>\n",
       "      <td>0.83</td>\n",
       "      <td>11.0446</td>\n",
       "      <td>259</td>\n",
       "      <td>15.8263</td>\n",
       "      <td>0</td>\n",
       "      <td>1016.51</td>\n",
       "    </tr>\n",
       "  </tbody>\n",
       "</table>\n",
       "</div>"
      ],
      "text/plain": [
       "                  Formatted Date        Summary  PrecipType  Temperature  \\\n",
       "0  2006-04-01 00:00:00.000 +0200  Partly Cloudy           0     9.472222   \n",
       "1  2006-04-01 01:00:00.000 +0200  Partly Cloudy           0     9.355556   \n",
       "2  2006-04-01 02:00:00.000 +0200  Mostly Cloudy           0     9.377778   \n",
       "3  2006-04-01 03:00:00.000 +0200  Partly Cloudy           0     8.288889   \n",
       "4  2006-04-01 04:00:00.000 +0200  Mostly Cloudy           0     8.755556   \n",
       "\n",
       "   ApparentTemperature  Humidity  WindSpeed  WindBearings  Visibilty  \\\n",
       "0             7.388889      0.89    14.1197           251    15.8263   \n",
       "1             7.227778      0.86    14.2646           259    15.8263   \n",
       "2             9.377778      0.89     3.9284           204    14.9569   \n",
       "3             5.944444      0.83    14.1036           269    15.8263   \n",
       "4             6.977778      0.83    11.0446           259    15.8263   \n",
       "\n",
       "   LoudCover  Pressure  \n",
       "0          0   1015.13  \n",
       "1          0   1015.63  \n",
       "2          0   1015.94  \n",
       "3          0   1016.41  \n",
       "4          0   1016.51  "
      ]
     },
     "execution_count": 709,
     "metadata": {},
     "output_type": "execute_result"
    }
   ],
   "source": [
    "df.head()"
   ]
  },
  {
   "cell_type": "code",
   "execution_count": 710,
   "metadata": {},
   "outputs": [
    {
     "data": {
      "text/plain": [
       "array(['Partly Cloudy', 'Mostly Cloudy', 'Overcast', 'Foggy',\n",
       "       'Breezy and Mostly Cloudy', 'Clear', 'Breezy and Partly Cloudy',\n",
       "       'Breezy and Overcast', 'Humid and Mostly Cloudy',\n",
       "       'Humid and Partly Cloudy', 'Windy and Foggy', 'Windy and Overcast',\n",
       "       'Breezy and Foggy', 'Windy and Partly Cloudy', 'Breezy',\n",
       "       'Dry and Partly Cloudy', 'Windy and Mostly Cloudy',\n",
       "       'Dangerously Windy and Partly Cloudy', 'Dry', 'Windy',\n",
       "       'Humid and Overcast', 'Light Rain', 'Drizzle', 'Windy and Dry',\n",
       "       'Dry and Mostly Cloudy', 'Breezy and Dry', 'Rain'], dtype=object)"
      ]
     },
     "execution_count": 710,
     "metadata": {},
     "output_type": "execute_result"
    }
   ],
   "source": [
    "df.Summary.unique()"
   ]
  },
  {
   "cell_type": "code",
   "execution_count": 711,
   "metadata": {},
   "outputs": [
    {
     "data": {
      "text/plain": [
       "array([0], dtype=int64)"
      ]
     },
     "execution_count": 711,
     "metadata": {},
     "output_type": "execute_result"
    }
   ],
   "source": [
    "df.LoudCover.unique()"
   ]
  },
  {
   "cell_type": "code",
   "execution_count": 712,
   "metadata": {},
   "outputs": [
    {
     "data": {
      "text/html": [
       "<div>\n",
       "<style scoped>\n",
       "    .dataframe tbody tr th:only-of-type {\n",
       "        vertical-align: middle;\n",
       "    }\n",
       "\n",
       "    .dataframe tbody tr th {\n",
       "        vertical-align: top;\n",
       "    }\n",
       "\n",
       "    .dataframe thead th {\n",
       "        text-align: right;\n",
       "    }\n",
       "</style>\n",
       "<table border=\"1\" class=\"dataframe\">\n",
       "  <thead>\n",
       "    <tr style=\"text-align: right;\">\n",
       "      <th></th>\n",
       "      <th>PrecipType</th>\n",
       "      <th>Temperature</th>\n",
       "      <th>ApparentTemperature</th>\n",
       "      <th>Humidity</th>\n",
       "      <th>WindSpeed</th>\n",
       "      <th>WindBearings</th>\n",
       "      <th>Visibilty</th>\n",
       "      <th>LoudCover</th>\n",
       "      <th>Pressure</th>\n",
       "    </tr>\n",
       "  </thead>\n",
       "  <tbody>\n",
       "    <tr>\n",
       "      <th>PrecipType</th>\n",
       "      <td>1.000000</td>\n",
       "      <td>-0.562620</td>\n",
       "      <td>-0.565207</td>\n",
       "      <td>0.232113</td>\n",
       "      <td>-0.067928</td>\n",
       "      <td>-0.041984</td>\n",
       "      <td>-0.312875</td>\n",
       "      <td>NaN</td>\n",
       "      <td>0.009008</td>\n",
       "    </tr>\n",
       "    <tr>\n",
       "      <th>Temperature</th>\n",
       "      <td>-0.562620</td>\n",
       "      <td>1.000000</td>\n",
       "      <td>0.992629</td>\n",
       "      <td>-0.632255</td>\n",
       "      <td>0.008957</td>\n",
       "      <td>0.029988</td>\n",
       "      <td>0.392847</td>\n",
       "      <td>NaN</td>\n",
       "      <td>-0.005447</td>\n",
       "    </tr>\n",
       "    <tr>\n",
       "      <th>ApparentTemperature</th>\n",
       "      <td>-0.565207</td>\n",
       "      <td>0.992629</td>\n",
       "      <td>1.000000</td>\n",
       "      <td>-0.602571</td>\n",
       "      <td>-0.056650</td>\n",
       "      <td>0.029031</td>\n",
       "      <td>0.381718</td>\n",
       "      <td>NaN</td>\n",
       "      <td>-0.000219</td>\n",
       "    </tr>\n",
       "    <tr>\n",
       "      <th>Humidity</th>\n",
       "      <td>0.232113</td>\n",
       "      <td>-0.632255</td>\n",
       "      <td>-0.602571</td>\n",
       "      <td>1.000000</td>\n",
       "      <td>-0.224951</td>\n",
       "      <td>0.000735</td>\n",
       "      <td>-0.369173</td>\n",
       "      <td>NaN</td>\n",
       "      <td>0.005454</td>\n",
       "    </tr>\n",
       "    <tr>\n",
       "      <th>WindSpeed</th>\n",
       "      <td>-0.067928</td>\n",
       "      <td>0.008957</td>\n",
       "      <td>-0.056650</td>\n",
       "      <td>-0.224951</td>\n",
       "      <td>1.000000</td>\n",
       "      <td>0.103822</td>\n",
       "      <td>0.100749</td>\n",
       "      <td>NaN</td>\n",
       "      <td>-0.049263</td>\n",
       "    </tr>\n",
       "    <tr>\n",
       "      <th>WindBearings</th>\n",
       "      <td>-0.041984</td>\n",
       "      <td>0.029988</td>\n",
       "      <td>0.029031</td>\n",
       "      <td>0.000735</td>\n",
       "      <td>0.103822</td>\n",
       "      <td>1.000000</td>\n",
       "      <td>0.047594</td>\n",
       "      <td>NaN</td>\n",
       "      <td>-0.011651</td>\n",
       "    </tr>\n",
       "    <tr>\n",
       "      <th>Visibilty</th>\n",
       "      <td>-0.312875</td>\n",
       "      <td>0.392847</td>\n",
       "      <td>0.381718</td>\n",
       "      <td>-0.369173</td>\n",
       "      <td>0.100749</td>\n",
       "      <td>0.047594</td>\n",
       "      <td>1.000000</td>\n",
       "      <td>NaN</td>\n",
       "      <td>0.059818</td>\n",
       "    </tr>\n",
       "    <tr>\n",
       "      <th>LoudCover</th>\n",
       "      <td>NaN</td>\n",
       "      <td>NaN</td>\n",
       "      <td>NaN</td>\n",
       "      <td>NaN</td>\n",
       "      <td>NaN</td>\n",
       "      <td>NaN</td>\n",
       "      <td>NaN</td>\n",
       "      <td>NaN</td>\n",
       "      <td>NaN</td>\n",
       "    </tr>\n",
       "    <tr>\n",
       "      <th>Pressure</th>\n",
       "      <td>0.009008</td>\n",
       "      <td>-0.005447</td>\n",
       "      <td>-0.000219</td>\n",
       "      <td>0.005454</td>\n",
       "      <td>-0.049263</td>\n",
       "      <td>-0.011651</td>\n",
       "      <td>0.059818</td>\n",
       "      <td>NaN</td>\n",
       "      <td>1.000000</td>\n",
       "    </tr>\n",
       "  </tbody>\n",
       "</table>\n",
       "</div>"
      ],
      "text/plain": [
       "                     PrecipType  Temperature  ApparentTemperature  Humidity  \\\n",
       "PrecipType             1.000000    -0.562620            -0.565207  0.232113   \n",
       "Temperature           -0.562620     1.000000             0.992629 -0.632255   \n",
       "ApparentTemperature   -0.565207     0.992629             1.000000 -0.602571   \n",
       "Humidity               0.232113    -0.632255            -0.602571  1.000000   \n",
       "WindSpeed             -0.067928     0.008957            -0.056650 -0.224951   \n",
       "WindBearings          -0.041984     0.029988             0.029031  0.000735   \n",
       "Visibilty             -0.312875     0.392847             0.381718 -0.369173   \n",
       "LoudCover                   NaN          NaN                  NaN       NaN   \n",
       "Pressure               0.009008    -0.005447            -0.000219  0.005454   \n",
       "\n",
       "                     WindSpeed  WindBearings  Visibilty  LoudCover  Pressure  \n",
       "PrecipType           -0.067928     -0.041984  -0.312875        NaN  0.009008  \n",
       "Temperature           0.008957      0.029988   0.392847        NaN -0.005447  \n",
       "ApparentTemperature  -0.056650      0.029031   0.381718        NaN -0.000219  \n",
       "Humidity             -0.224951      0.000735  -0.369173        NaN  0.005454  \n",
       "WindSpeed             1.000000      0.103822   0.100749        NaN -0.049263  \n",
       "WindBearings          0.103822      1.000000   0.047594        NaN -0.011651  \n",
       "Visibilty             0.100749      0.047594   1.000000        NaN  0.059818  \n",
       "LoudCover                  NaN           NaN        NaN        NaN       NaN  \n",
       "Pressure             -0.049263     -0.011651   0.059818        NaN  1.000000  "
      ]
     },
     "execution_count": 712,
     "metadata": {},
     "output_type": "execute_result"
    }
   ],
   "source": [
    "df.corr()"
   ]
  },
  {
   "cell_type": "code",
   "execution_count": 713,
   "metadata": {},
   "outputs": [],
   "source": [
    "df=df.drop(['LoudCover'],axis=1)"
   ]
  },
  {
   "cell_type": "code",
   "execution_count": 714,
   "metadata": {},
   "outputs": [
    {
     "data": {
      "text/plain": [
       "<matplotlib.axes._subplots.AxesSubplot at 0x17a1b633550>"
      ]
     },
     "execution_count": 714,
     "metadata": {},
     "output_type": "execute_result"
    },
    {
     "data": {
      "image/png": "[encoded data removed]",
      "text/plain": [
       "<Figure size 432x288 with 2 Axes>"
      ]
     },
     "metadata": {
      "needs_background": "light"
     },
     "output_type": "display_data"
    }
   ],
   "source": [
    "sn.heatmap(df.corr())"
   ]
  },
  {
   "cell_type": "code",
   "execution_count": 715,
   "metadata": {},
   "outputs": [
    {
     "data": {
      "text/html": [
       "<div>\n",
       "<style scoped>\n",
       "    .dataframe tbody tr th:only-of-type {\n",
       "        vertical-align: middle;\n",
       "    }\n",
       "\n",
       "    .dataframe tbody tr th {\n",
       "        vertical-align: top;\n",
       "    }\n",
       "\n",
       "    .dataframe thead th {\n",
       "        text-align: right;\n",
       "    }\n",
       "</style>\n",
       "<table border=\"1\" class=\"dataframe\">\n",
       "  <thead>\n",
       "    <tr style=\"text-align: right;\">\n",
       "      <th></th>\n",
       "      <th>Formatted Date</th>\n",
       "      <th>Summary</th>\n",
       "      <th>PrecipType</th>\n",
       "      <th>Temperature</th>\n",
       "      <th>ApparentTemperature</th>\n",
       "      <th>Humidity</th>\n",
       "      <th>WindSpeed</th>\n",
       "      <th>WindBearings</th>\n",
       "      <th>Visibilty</th>\n",
       "      <th>Pressure</th>\n",
       "    </tr>\n",
       "  </thead>\n",
       "  <tbody>\n",
       "    <tr>\n",
       "      <th>0</th>\n",
       "      <td>2006-04-01 00:00:00.000 +0200</td>\n",
       "      <td>Partly Cloudy</td>\n",
       "      <td>0</td>\n",
       "      <td>9.472222</td>\n",
       "      <td>7.388889</td>\n",
       "      <td>0.89</td>\n",
       "      <td>14.1197</td>\n",
       "      <td>251</td>\n",
       "      <td>15.8263</td>\n",
       "      <td>1015.13</td>\n",
       "    </tr>\n",
       "    <tr>\n",
       "      <th>1</th>\n",
       "      <td>2006-04-01 01:00:00.000 +0200</td>\n",
       "      <td>Partly Cloudy</td>\n",
       "      <td>0</td>\n",
       "      <td>9.355556</td>\n",
       "      <td>7.227778</td>\n",
       "      <td>0.86</td>\n",
       "      <td>14.2646</td>\n",
       "      <td>259</td>\n",
       "      <td>15.8263</td>\n",
       "      <td>1015.63</td>\n",
       "    </tr>\n",
       "    <tr>\n",
       "      <th>2</th>\n",
       "      <td>2006-04-01 02:00:00.000 +0200</td>\n",
       "      <td>Mostly Cloudy</td>\n",
       "      <td>0</td>\n",
       "      <td>9.377778</td>\n",
       "      <td>9.377778</td>\n",
       "      <td>0.89</td>\n",
       "      <td>3.9284</td>\n",
       "      <td>204</td>\n",
       "      <td>14.9569</td>\n",
       "      <td>1015.94</td>\n",
       "    </tr>\n",
       "    <tr>\n",
       "      <th>3</th>\n",
       "      <td>2006-04-01 03:00:00.000 +0200</td>\n",
       "      <td>Partly Cloudy</td>\n",
       "      <td>0</td>\n",
       "      <td>8.288889</td>\n",
       "      <td>5.944444</td>\n",
       "      <td>0.83</td>\n",
       "      <td>14.1036</td>\n",
       "      <td>269</td>\n",
       "      <td>15.8263</td>\n",
       "      <td>1016.41</td>\n",
       "    </tr>\n",
       "    <tr>\n",
       "      <th>4</th>\n",
       "      <td>2006-04-01 04:00:00.000 +0200</td>\n",
       "      <td>Mostly Cloudy</td>\n",
       "      <td>0</td>\n",
       "      <td>8.755556</td>\n",
       "      <td>6.977778</td>\n",
       "      <td>0.83</td>\n",
       "      <td>11.0446</td>\n",
       "      <td>259</td>\n",
       "      <td>15.8263</td>\n",
       "      <td>1016.51</td>\n",
       "    </tr>\n",
       "  </tbody>\n",
       "</table>\n",
       "</div>"
      ],
      "text/plain": [
       "                  Formatted Date        Summary  PrecipType  Temperature  \\\n",
       "0  2006-04-01 00:00:00.000 +0200  Partly Cloudy           0     9.472222   \n",
       "1  2006-04-01 01:00:00.000 +0200  Partly Cloudy           0     9.355556   \n",
       "2  2006-04-01 02:00:00.000 +0200  Mostly Cloudy           0     9.377778   \n",
       "3  2006-04-01 03:00:00.000 +0200  Partly Cloudy           0     8.288889   \n",
       "4  2006-04-01 04:00:00.000 +0200  Mostly Cloudy           0     8.755556   \n",
       "\n",
       "   ApparentTemperature  Humidity  WindSpeed  WindBearings  Visibilty  Pressure  \n",
       "0             7.388889      0.89    14.1197           251    15.8263   1015.13  \n",
       "1             7.227778      0.86    14.2646           259    15.8263   1015.63  \n",
       "2             9.377778      0.89     3.9284           204    14.9569   1015.94  \n",
       "3             5.944444      0.83    14.1036           269    15.8263   1016.41  \n",
       "4             6.977778      0.83    11.0446           259    15.8263   1016.51  "
      ]
     },
     "execution_count": 715,
     "metadata": {},
     "output_type": "execute_result"
    }
   ],
   "source": [
    "df.head()"
   ]
  },
  {
   "cell_type": "code",
   "execution_count": 716,
   "metadata": {},
   "outputs": [
    {
     "name": "stdout",
     "output_type": "stream",
     "text": [
      "27\n"
     ]
    },
    {
     "data": {
      "text/plain": [
       "array(['Partly Cloudy', 'Mostly Cloudy', 'Overcast', 'Foggy',\n",
       "       'Breezy and Mostly Cloudy', 'Clear', 'Breezy and Partly Cloudy',\n",
       "       'Breezy and Overcast', 'Humid and Mostly Cloudy',\n",
       "       'Humid and Partly Cloudy', 'Windy and Foggy', 'Windy and Overcast',\n",
       "       'Breezy and Foggy', 'Windy and Partly Cloudy', 'Breezy',\n",
       "       'Dry and Partly Cloudy', 'Windy and Mostly Cloudy',\n",
       "       'Dangerously Windy and Partly Cloudy', 'Dry', 'Windy',\n",
       "       'Humid and Overcast', 'Light Rain', 'Drizzle', 'Windy and Dry',\n",
       "       'Dry and Mostly Cloudy', 'Breezy and Dry', 'Rain'], dtype=object)"
      ]
     },
     "execution_count": 716,
     "metadata": {},
     "output_type": "execute_result"
    }
   ],
   "source": [
    "print(len(df.Summary.unique()))\n",
    "df.Summary.unique()"
   ]
  },
  {
   "cell_type": "code",
   "execution_count": 717,
   "metadata": {},
   "outputs": [
    {
     "name": "stderr",
     "output_type": "stream",
     "text": [
      "D:\\Anaconda3\\lib\\site-packages\\ipykernel_launcher.py:3: SettingWithCopyWarning: \n",
      "A value is trying to be set on a copy of a slice from a DataFrame\n",
      "\n",
      "See the caveats in the documentation: http://pandas.pydata.org/pandas-docs/stable/indexing.html#indexing-view-versus-copy\n",
      "  This is separate from the ipykernel package so we can avoid doing imports until\n"
     ]
    }
   ],
   "source": [
    "from sklearn.preprocessing import LabelEncoder, OneHotEncoder\n",
    "labelencoder_X = LabelEncoder()\n",
    "df.Summary[:] = labelencoder_X.fit_transform(df.Summary[:])"
   ]
  },
  {
   "cell_type": "code",
   "execution_count": 718,
   "metadata": {},
   "outputs": [
    {
     "data": {
      "text/plain": [
       "array([19, 17, 18, 12,  3,  6,  5,  4, 13, 15, 23, 25,  2, 26,  0, 11, 24,\n",
       "        7,  9, 21, 14, 16,  8, 22, 10,  1, 20], dtype=int64)"
      ]
     },
     "execution_count": 718,
     "metadata": {},
     "output_type": "execute_result"
    }
   ],
   "source": [
    "df.Summary.unique()"
   ]
  },
  {
   "cell_type": "code",
   "execution_count": 719,
   "metadata": {},
   "outputs": [
    {
     "name": "stdout",
     "output_type": "stream",
     "text": [
      "27\n"
     ]
    }
   ],
   "source": [
    "print(len(df.Summary.unique()))"
   ]
  },
  {
   "cell_type": "code",
   "execution_count": 720,
   "metadata": {},
   "outputs": [
    {
     "data": {
      "text/html": [
       "<div>\n",
       "<style scoped>\n",
       "    .dataframe tbody tr th:only-of-type {\n",
       "        vertical-align: middle;\n",
       "    }\n",
       "\n",
       "    .dataframe tbody tr th {\n",
       "        vertical-align: top;\n",
       "    }\n",
       "\n",
       "    .dataframe thead th {\n",
       "        text-align: right;\n",
       "    }\n",
       "</style>\n",
       "<table border=\"1\" class=\"dataframe\">\n",
       "  <thead>\n",
       "    <tr style=\"text-align: right;\">\n",
       "      <th></th>\n",
       "      <th>Formatted Date</th>\n",
       "      <th>Summary</th>\n",
       "      <th>PrecipType</th>\n",
       "      <th>Temperature</th>\n",
       "      <th>ApparentTemperature</th>\n",
       "      <th>Humidity</th>\n",
       "      <th>WindSpeed</th>\n",
       "      <th>WindBearings</th>\n",
       "      <th>Visibilty</th>\n",
       "      <th>Pressure</th>\n",
       "    </tr>\n",
       "  </thead>\n",
       "  <tbody>\n",
       "    <tr>\n",
       "      <th>0</th>\n",
       "      <td>2006-04-01 00:00:00.000 +0200</td>\n",
       "      <td>19</td>\n",
       "      <td>0</td>\n",
       "      <td>9.472222</td>\n",
       "      <td>7.388889</td>\n",
       "      <td>0.89</td>\n",
       "      <td>14.1197</td>\n",
       "      <td>251</td>\n",
       "      <td>15.8263</td>\n",
       "      <td>1015.13</td>\n",
       "    </tr>\n",
       "    <tr>\n",
       "      <th>1</th>\n",
       "      <td>2006-04-01 01:00:00.000 +0200</td>\n",
       "      <td>19</td>\n",
       "      <td>0</td>\n",
       "      <td>9.355556</td>\n",
       "      <td>7.227778</td>\n",
       "      <td>0.86</td>\n",
       "      <td>14.2646</td>\n",
       "      <td>259</td>\n",
       "      <td>15.8263</td>\n",
       "      <td>1015.63</td>\n",
       "    </tr>\n",
       "    <tr>\n",
       "      <th>2</th>\n",
       "      <td>2006-04-01 02:00:00.000 +0200</td>\n",
       "      <td>17</td>\n",
       "      <td>0</td>\n",
       "      <td>9.377778</td>\n",
       "      <td>9.377778</td>\n",
       "      <td>0.89</td>\n",
       "      <td>3.9284</td>\n",
       "      <td>204</td>\n",
       "      <td>14.9569</td>\n",
       "      <td>1015.94</td>\n",
       "    </tr>\n",
       "    <tr>\n",
       "      <th>3</th>\n",
       "      <td>2006-04-01 03:00:00.000 +0200</td>\n",
       "      <td>19</td>\n",
       "      <td>0</td>\n",
       "      <td>8.288889</td>\n",
       "      <td>5.944444</td>\n",
       "      <td>0.83</td>\n",
       "      <td>14.1036</td>\n",
       "      <td>269</td>\n",
       "      <td>15.8263</td>\n",
       "      <td>1016.41</td>\n",
       "    </tr>\n",
       "    <tr>\n",
       "      <th>4</th>\n",
       "      <td>2006-04-01 04:00:00.000 +0200</td>\n",
       "      <td>17</td>\n",
       "      <td>0</td>\n",
       "      <td>8.755556</td>\n",
       "      <td>6.977778</td>\n",
       "      <td>0.83</td>\n",
       "      <td>11.0446</td>\n",
       "      <td>259</td>\n",
       "      <td>15.8263</td>\n",
       "      <td>1016.51</td>\n",
       "    </tr>\n",
       "  </tbody>\n",
       "</table>\n",
       "</div>"
      ],
      "text/plain": [
       "                  Formatted Date  Summary  PrecipType  Temperature  \\\n",
       "0  2006-04-01 00:00:00.000 +0200       19           0     9.472222   \n",
       "1  2006-04-01 01:00:00.000 +0200       19           0     9.355556   \n",
       "2  2006-04-01 02:00:00.000 +0200       17           0     9.377778   \n",
       "3  2006-04-01 03:00:00.000 +0200       19           0     8.288889   \n",
       "4  2006-04-01 04:00:00.000 +0200       17           0     8.755556   \n",
       "\n",
       "   ApparentTemperature  Humidity  WindSpeed  WindBearings  Visibilty  Pressure  \n",
       "0             7.388889      0.89    14.1197           251    15.8263   1015.13  \n",
       "1             7.227778      0.86    14.2646           259    15.8263   1015.63  \n",
       "2             9.377778      0.89     3.9284           204    14.9569   1015.94  \n",
       "3             5.944444      0.83    14.1036           269    15.8263   1016.41  \n",
       "4             6.977778      0.83    11.0446           259    15.8263   1016.51  "
      ]
     },
     "execution_count": 720,
     "metadata": {},
     "output_type": "execute_result"
    }
   ],
   "source": [
    "df.head()"
   ]
  },
  {
   "cell_type": "code",
   "execution_count": 721,
   "metadata": {},
   "outputs": [],
   "source": [
    "# convert series to supervised learning \n",
    "def series_to_supervised(data, n_in=1, n_out=1, dropnan=True): \n",
    "    n_vars = 1 if type(data) is list else data.shape[1] \n",
    "    df = pd.DataFrame(data) \n",
    "    cols, names = list(), list() \n",
    "    # input sequence (t-n, ... t-1) \n",
    "    for i in range(n_in, 0, -1):  \n",
    "        cols.append(df.shift(i))  \n",
    "        names += [('var%d(t-%d)' % (j+1, i)) for j in range(n_vars)] \n",
    "    # forecast sequence (t, t+1, ... t+n) \n",
    "    for i in range(0, n_out):  \n",
    "        cols.append(df.shift(-i))  \n",
    "        if i == 0:   \n",
    "            names += [('var%d(t)' % (j+1)) for j in range(n_vars)]  \n",
    "        else:   \n",
    "            names += [('var%d(t+%d)' % (j+1, i)) for j in range(n_vars)] \n",
    "    # put it all together \n",
    "    agg = pd.concat(cols, axis=1) \n",
    "    agg.columns = names \n",
    "    # drop rows with NaN values \n",
    "    if dropnan:  \n",
    "        agg.dropna(inplace=True) \n",
    "    return agg "
   ]
  },
  {
   "cell_type": "code",
   "execution_count": 722,
   "metadata": {},
   "outputs": [],
   "source": [
    "df = df.set_index(pd.DatetimeIndex(df['Formatted Date']))"
   ]
  },
  {
   "cell_type": "code",
   "execution_count": 723,
   "metadata": {},
   "outputs": [],
   "source": [
    "df=df.drop('Formatted Date',axis=1)"
   ]
  },
  {
   "cell_type": "code",
   "execution_count": 724,
   "metadata": {},
   "outputs": [],
   "source": [
    "df.index.name='date'"
   ]
  },
  {
   "cell_type": "code",
   "execution_count": 725,
   "metadata": {},
   "outputs": [
    {
     "data": {
      "text/html": [
       "<div>\n",
       "<style scoped>\n",
       "    .dataframe tbody tr th:only-of-type {\n",
       "        vertical-align: middle;\n",
       "    }\n",
       "\n",
       "    .dataframe tbody tr th {\n",
       "        vertical-align: top;\n",
       "    }\n",
       "\n",
       "    .dataframe thead th {\n",
       "        text-align: right;\n",
       "    }\n",
       "</style>\n",
       "<table border=\"1\" class=\"dataframe\">\n",
       "  <thead>\n",
       "    <tr style=\"text-align: right;\">\n",
       "      <th></th>\n",
       "      <th>Summary</th>\n",
       "      <th>PrecipType</th>\n",
       "      <th>Temperature</th>\n",
       "      <th>ApparentTemperature</th>\n",
       "      <th>Humidity</th>\n",
       "      <th>WindSpeed</th>\n",
       "      <th>WindBearings</th>\n",
       "      <th>Visibilty</th>\n",
       "      <th>Pressure</th>\n",
       "    </tr>\n",
       "    <tr>\n",
       "      <th>date</th>\n",
       "      <th></th>\n",
       "      <th></th>\n",
       "      <th></th>\n",
       "      <th></th>\n",
       "      <th></th>\n",
       "      <th></th>\n",
       "      <th></th>\n",
       "      <th></th>\n",
       "      <th></th>\n",
       "    </tr>\n",
       "  </thead>\n",
       "  <tbody>\n",
       "    <tr>\n",
       "      <th>2006-03-31 22:00:00</th>\n",
       "      <td>19</td>\n",
       "      <td>0</td>\n",
       "      <td>9.472222</td>\n",
       "      <td>7.388889</td>\n",
       "      <td>0.89</td>\n",
       "      <td>14.1197</td>\n",
       "      <td>251</td>\n",
       "      <td>15.8263</td>\n",
       "      <td>1015.13</td>\n",
       "    </tr>\n",
       "    <tr>\n",
       "      <th>2006-03-31 23:00:00</th>\n",
       "      <td>19</td>\n",
       "      <td>0</td>\n",
       "      <td>9.355556</td>\n",
       "      <td>7.227778</td>\n",
       "      <td>0.86</td>\n",
       "      <td>14.2646</td>\n",
       "      <td>259</td>\n",
       "      <td>15.8263</td>\n",
       "      <td>1015.63</td>\n",
       "    </tr>\n",
       "    <tr>\n",
       "      <th>2006-04-01 00:00:00</th>\n",
       "      <td>17</td>\n",
       "      <td>0</td>\n",
       "      <td>9.377778</td>\n",
       "      <td>9.377778</td>\n",
       "      <td>0.89</td>\n",
       "      <td>3.9284</td>\n",
       "      <td>204</td>\n",
       "      <td>14.9569</td>\n",
       "      <td>1015.94</td>\n",
       "    </tr>\n",
       "    <tr>\n",
       "      <th>2006-04-01 01:00:00</th>\n",
       "      <td>19</td>\n",
       "      <td>0</td>\n",
       "      <td>8.288889</td>\n",
       "      <td>5.944444</td>\n",
       "      <td>0.83</td>\n",
       "      <td>14.1036</td>\n",
       "      <td>269</td>\n",
       "      <td>15.8263</td>\n",
       "      <td>1016.41</td>\n",
       "    </tr>\n",
       "    <tr>\n",
       "      <th>2006-04-01 02:00:00</th>\n",
       "      <td>17</td>\n",
       "      <td>0</td>\n",
       "      <td>8.755556</td>\n",
       "      <td>6.977778</td>\n",
       "      <td>0.83</td>\n",
       "      <td>11.0446</td>\n",
       "      <td>259</td>\n",
       "      <td>15.8263</td>\n",
       "      <td>1016.51</td>\n",
       "    </tr>\n",
       "  </tbody>\n",
       "</table>\n",
       "</div>"
      ],
      "text/plain": [
       "                     Summary  PrecipType  Temperature  ApparentTemperature  \\\n",
       "date                                                                         \n",
       "2006-03-31 22:00:00       19           0     9.472222             7.388889   \n",
       "2006-03-31 23:00:00       19           0     9.355556             7.227778   \n",
       "2006-04-01 00:00:00       17           0     9.377778             9.377778   \n",
       "2006-04-01 01:00:00       19           0     8.288889             5.944444   \n",
       "2006-04-01 02:00:00       17           0     8.755556             6.977778   \n",
       "\n",
       "                     Humidity  WindSpeed  WindBearings  Visibilty  Pressure  \n",
       "date                                                                         \n",
       "2006-03-31 22:00:00      0.89    14.1197           251    15.8263   1015.13  \n",
       "2006-03-31 23:00:00      0.86    14.2646           259    15.8263   1015.63  \n",
       "2006-04-01 00:00:00      0.89     3.9284           204    14.9569   1015.94  \n",
       "2006-04-01 01:00:00      0.83    14.1036           269    15.8263   1016.41  \n",
       "2006-04-01 02:00:00      0.83    11.0446           259    15.8263   1016.51  "
      ]
     },
     "execution_count": 725,
     "metadata": {},
     "output_type": "execute_result"
    }
   ],
   "source": [
    "df.head()"
   ]
  },
  {
   "cell_type": "code",
   "execution_count": 726,
   "metadata": {},
   "outputs": [],
   "source": [
    "df=df.drop('ApparentTemperature',axis=1)"
   ]
  },
  {
   "cell_type": "code",
   "execution_count": 727,
   "metadata": {},
   "outputs": [],
   "source": [
    "df.to_csv(\"weather.csv\")"
   ]
  },
  {
   "cell_type": "code",
   "execution_count": 728,
   "metadata": {},
   "outputs": [
    {
     "data": {
      "text/html": [
       "<div>\n",
       "<style scoped>\n",
       "    .dataframe tbody tr th:only-of-type {\n",
       "        vertical-align: middle;\n",
       "    }\n",
       "\n",
       "    .dataframe tbody tr th {\n",
       "        vertical-align: top;\n",
       "    }\n",
       "\n",
       "    .dataframe thead th {\n",
       "        text-align: right;\n",
       "    }\n",
       "</style>\n",
       "<table border=\"1\" class=\"dataframe\">\n",
       "  <thead>\n",
       "    <tr style=\"text-align: right;\">\n",
       "      <th></th>\n",
       "      <th>Summary</th>\n",
       "      <th>PrecipType</th>\n",
       "      <th>Temperature</th>\n",
       "      <th>Humidity</th>\n",
       "      <th>WindSpeed</th>\n",
       "      <th>WindBearings</th>\n",
       "      <th>Visibilty</th>\n",
       "      <th>Pressure</th>\n",
       "    </tr>\n",
       "    <tr>\n",
       "      <th>date</th>\n",
       "      <th></th>\n",
       "      <th></th>\n",
       "      <th></th>\n",
       "      <th></th>\n",
       "      <th></th>\n",
       "      <th></th>\n",
       "      <th></th>\n",
       "      <th></th>\n",
       "    </tr>\n",
       "  </thead>\n",
       "  <tbody>\n",
       "    <tr>\n",
       "      <th>2006-03-31 22:00:00</th>\n",
       "      <td>19</td>\n",
       "      <td>0</td>\n",
       "      <td>9.472222</td>\n",
       "      <td>0.89</td>\n",
       "      <td>14.1197</td>\n",
       "      <td>251</td>\n",
       "      <td>15.8263</td>\n",
       "      <td>1015.13</td>\n",
       "    </tr>\n",
       "    <tr>\n",
       "      <th>2006-03-31 23:00:00</th>\n",
       "      <td>19</td>\n",
       "      <td>0</td>\n",
       "      <td>9.355556</td>\n",
       "      <td>0.86</td>\n",
       "      <td>14.2646</td>\n",
       "      <td>259</td>\n",
       "      <td>15.8263</td>\n",
       "      <td>1015.63</td>\n",
       "    </tr>\n",
       "    <tr>\n",
       "      <th>2006-04-01 00:00:00</th>\n",
       "      <td>17</td>\n",
       "      <td>0</td>\n",
       "      <td>9.377778</td>\n",
       "      <td>0.89</td>\n",
       "      <td>3.9284</td>\n",
       "      <td>204</td>\n",
       "      <td>14.9569</td>\n",
       "      <td>1015.94</td>\n",
       "    </tr>\n",
       "    <tr>\n",
       "      <th>2006-04-01 01:00:00</th>\n",
       "      <td>19</td>\n",
       "      <td>0</td>\n",
       "      <td>8.288889</td>\n",
       "      <td>0.83</td>\n",
       "      <td>14.1036</td>\n",
       "      <td>269</td>\n",
       "      <td>15.8263</td>\n",
       "      <td>1016.41</td>\n",
       "    </tr>\n",
       "    <tr>\n",
       "      <th>2006-04-01 02:00:00</th>\n",
       "      <td>17</td>\n",
       "      <td>0</td>\n",
       "      <td>8.755556</td>\n",
       "      <td>0.83</td>\n",
       "      <td>11.0446</td>\n",
       "      <td>259</td>\n",
       "      <td>15.8263</td>\n",
       "      <td>1016.51</td>\n",
       "    </tr>\n",
       "  </tbody>\n",
       "</table>\n",
       "</div>"
      ],
      "text/plain": [
       "                     Summary  PrecipType  Temperature  Humidity  WindSpeed  \\\n",
       "date                                                                         \n",
       "2006-03-31 22:00:00       19           0     9.472222      0.89    14.1197   \n",
       "2006-03-31 23:00:00       19           0     9.355556      0.86    14.2646   \n",
       "2006-04-01 00:00:00       17           0     9.377778      0.89     3.9284   \n",
       "2006-04-01 01:00:00       19           0     8.288889      0.83    14.1036   \n",
       "2006-04-01 02:00:00       17           0     8.755556      0.83    11.0446   \n",
       "\n",
       "                     WindBearings  Visibilty  Pressure  \n",
       "date                                                    \n",
       "2006-03-31 22:00:00           251    15.8263   1015.13  \n",
       "2006-03-31 23:00:00           259    15.8263   1015.63  \n",
       "2006-04-01 00:00:00           204    14.9569   1015.94  \n",
       "2006-04-01 01:00:00           269    15.8263   1016.41  \n",
       "2006-04-01 02:00:00           259    15.8263   1016.51  "
      ]
     },
     "execution_count": 728,
     "metadata": {},
     "output_type": "execute_result"
    }
   ],
   "source": [
    "df.head()"
   ]
  },
  {
   "cell_type": "code",
   "execution_count": 729,
   "metadata": {},
   "outputs": [
    {
     "name": "stdout",
     "output_type": "stream",
     "text": [
      "-21.82222222\n"
     ]
    },
    {
     "data": {
      "text/plain": [
       "39.90555556"
      ]
     },
     "execution_count": 729,
     "metadata": {},
     "output_type": "execute_result"
    }
   ],
   "source": [
    "data=df.values\n",
    "print(df.Temperature.min())\n",
    "df.Temperature.max()"
   ]
  },
  {
   "cell_type": "code",
   "execution_count": 730,
   "metadata": {},
   "outputs": [],
   "source": [
    "# ensure all data is float\n",
    "data=data.astype('float32')"
   ]
  },
  {
   "cell_type": "code",
   "execution_count": 731,
   "metadata": {},
   "outputs": [],
   "source": [
    "# normalize features\n",
    "scaler=MinMaxScaler(feature_range=(0,1))\n",
    "scaled = scaler.fit_transform(data)"
   ]
  },
  {
   "cell_type": "code",
   "execution_count": 732,
   "metadata": {},
   "outputs": [],
   "source": [
    "# specify no. of lag hours\n",
    "n_hours = 3\n",
    "n_features = 8"
   ]
  },
  {
   "cell_type": "code",
   "execution_count": 733,
   "metadata": {},
   "outputs": [
    {
     "name": "stdout",
     "output_type": "stream",
     "text": [
      "(96450, 32)\n"
     ]
    }
   ],
   "source": [
    "# frame as supervised learning\n",
    "reframed = series_to_supervised(scaled,n_hours,1)\n",
    "print(reframed.shape)"
   ]
  },
  {
   "cell_type": "code",
   "execution_count": 738,
   "metadata": {},
   "outputs": [
    {
     "name": "stdout",
     "output_type": "stream",
     "text": [
      "       var1(t-3)  var2(t-3)  var3(t-3)  var4(t-3)  var5(t-3)  var6(t-3)  \\\n",
      "3       0.730769        0.0   0.506975       0.89   0.221130   0.699164   \n",
      "4       0.730769        0.0   0.505085       0.86   0.223399   0.721448   \n",
      "5       0.653846        0.0   0.505445       0.89   0.061523   0.568245   \n",
      "6       0.730769        0.0   0.487805       0.83   0.220877   0.749304   \n",
      "7       0.653846        0.0   0.495365       0.83   0.172970   0.721448   \n",
      "8       0.730769        0.0   0.502925       0.85   0.218608   0.718663   \n",
      "9       0.730769        0.0   0.478805       0.95   0.193646   0.721448   \n",
      "10      0.730769        0.0   0.495635       0.89   0.221634   0.724234   \n",
      "11      0.730769        0.0   0.528845       0.82   0.177257   0.721448   \n",
      "12      0.730769        0.0   0.576636       0.72   0.196167   0.777159   \n",
      "13      0.730769        0.0   0.612996       0.67   0.275088   0.807799   \n",
      "14      0.730769        0.0   0.631266       0.54   0.309884   0.880223   \n",
      "15      0.730769        0.0   0.641886       0.55   0.343671   0.782730   \n",
      "16      0.730769        0.0   0.634326       0.51   0.324004   0.805014   \n",
      "17      0.730769        0.0   0.659347       0.47   0.240797   0.729805   \n",
      "18      0.730769        0.0   0.659887       0.46   0.162885   0.802228   \n",
      "19      0.730769        0.0   0.602826       0.60   0.225668   0.699164   \n",
      "20      0.653846        0.0   0.605436       0.63   0.174735   0.640669   \n",
      "21      0.653846        0.0   0.584466       0.69   0.133384   0.454039   \n",
      "22      0.653846        0.0   0.566466       0.70   0.119516   0.387187   \n",
      "23      0.653846        0.0   0.540635       0.77   0.115734   0.409471   \n",
      "24      0.653846        0.0   0.534695       0.76   0.077156   0.445682   \n",
      "25      0.730769        0.0   0.517415       0.79   0.104135   0.454039   \n",
      "26      0.653846        0.0   0.518765       0.77   0.061523   0.423398   \n",
      "27      0.730769        0.0   0.522365       0.62   0.266011   0.417827   \n",
      "28      0.730769        0.0   0.514085       0.66   0.269541   0.415042   \n",
      "29      0.653846        0.0   0.534695       0.80   0.169440   0.454039   \n",
      "30      0.730769        0.0   0.469445       0.79   0.173475   0.501393   \n",
      "31      0.730769        0.0   0.452525       0.82   0.104135   0.448468   \n",
      "32      0.730769        0.0   0.463505       0.83   0.203732   0.376045   \n",
      "...          ...        ...        ...        ...        ...        ...   \n",
      "96423   0.730769        0.0   0.838718       0.25   0.341654   0.445682   \n",
      "96424   0.730769        0.0   0.839078       0.26   0.193646   0.442897   \n",
      "96425   0.730769        0.0   0.820808       0.27   0.082703   0.345404   \n",
      "96426   0.730769        0.0   0.803888       0.32   0.048159   0.334262   \n",
      "96427   0.730769        0.0   0.756998       0.51   0.000000   0.000000   \n",
      "96428   0.730769        0.0   0.715867       0.58   0.052194   0.376045   \n",
      "96429   0.653846        0.0   0.693997       0.64   0.050429   0.947075   \n",
      "96430   0.730769        0.0   0.676357       0.71   0.049420   0.841226   \n",
      "96431   0.730769        0.0   0.650797       0.77   0.050429   0.147632   \n",
      "96432   0.730769        0.0   0.641166       0.81   0.046394   0.033426   \n",
      "96433   0.230769        0.0   0.622806       0.87   0.053707   0.972145   \n",
      "96434   0.230769        0.0   0.615066       0.87   0.057237   0.044568   \n",
      "96435   0.230769        0.0   0.606156       0.87   0.051437   0.114206   \n",
      "96436   0.230769        0.0   0.596706       0.93   0.050177   0.949861   \n",
      "96437   0.230769        0.0   0.596796       0.90   0.042360   1.000000   \n",
      "96438   0.230769        0.0   0.578256       0.93   0.074382   0.000000   \n",
      "96439   0.230769        0.0   0.613896       0.88   0.043621   0.033426   \n",
      "96440   0.730769        0.0   0.670417       0.75   0.058245   0.033426   \n",
      "96441   0.730769        0.0   0.712177       0.65   0.121785   0.083565   \n",
      "96442   0.730769        0.0   0.724057       0.59   0.100605   0.136490   \n",
      "96443   0.730769        0.0   0.792098       0.42   0.188099   0.136490   \n",
      "96444   0.730769        0.0   0.821168       0.37   0.218104   0.169916   \n",
      "96445   0.730769        0.0   0.855639       0.33   0.244579   0.194986   \n",
      "96446   0.730769        0.0   0.854019       0.28   0.231467   0.119777   \n",
      "96447   0.730769        0.0   0.857079       0.28   0.242814   0.111421   \n",
      "96448   0.730769        0.0   0.857079       0.28   0.217600   0.111421   \n",
      "96449   0.730769        0.0   0.851949       0.28   0.222642   0.066852   \n",
      "96450   0.730769        0.0   0.820718       0.32   0.191125   0.058496   \n",
      "96451   0.730769        0.0   0.774998       0.43   0.172214   0.086351   \n",
      "96452   0.730769        0.0   0.751778       0.48   0.158094   0.055710   \n",
      "\n",
      "       var7(t-3)  var8(t-3)  var1(t-2)  var2(t-2)    ...     var7(t-1)  \\\n",
      "3          0.983   0.970135   0.730769        0.0    ...         0.929   \n",
      "4          0.983   0.970613   0.653846        0.0    ...         0.983   \n",
      "5          0.929   0.970909   0.730769        0.0    ...         0.983   \n",
      "6          0.983   0.971358   0.653846        0.0    ...         0.929   \n",
      "7          0.983   0.971454   0.730769        0.0    ...         0.620   \n",
      "8          0.929   0.971597   0.730769        0.0    ...         0.620   \n",
      "9          0.620   0.971655   0.730769        0.0    ...         0.620   \n",
      "10         0.620   0.971769   0.730769        0.0    ...         0.620   \n",
      "11         0.620   0.972276   0.730769        0.0    ...         0.696   \n",
      "12         0.620   0.972132   0.730769        0.0    ...         0.711   \n",
      "13         0.696   0.972324   0.730769        0.0    ...         0.700   \n",
      "14         0.711   0.972629   0.730769        0.0    ...         0.700   \n",
      "15         0.700   0.972486   0.730769        0.0    ...         0.711   \n",
      "16         0.700   0.972381   0.730769        0.0    ...         0.700   \n",
      "17         0.711   0.972085   0.730769        0.0    ...         0.700   \n",
      "18         0.700   0.971416   0.730769        0.0    ...         0.711   \n",
      "19         0.700   0.971110   0.653846        0.0    ...         0.696   \n",
      "20         0.711   0.971129   0.653846        0.0    ...         0.696   \n",
      "21         0.696   0.970794   0.653846        0.0    ...         0.685   \n",
      "22         0.696   0.970804   0.653846        0.0    ...         0.620   \n",
      "23         0.685   0.970823   0.653846        0.0    ...         0.983   \n",
      "24         0.620   0.970747   0.730769        0.0    ...         0.929   \n",
      "25         0.983   0.970393   0.653846        0.0    ...         0.983   \n",
      "26         0.929   0.970498   0.730769        0.0    ...         0.983   \n",
      "27         0.983   0.969437   0.730769        0.0    ...         0.929   \n",
      "28         0.983   0.969246   0.653846        0.0    ...         0.983   \n",
      "29         0.929   0.964000   0.730769        0.0    ...         0.983   \n",
      "30         0.983   0.969504   0.730769        0.0    ...         0.929   \n",
      "31         0.983   0.969485   0.730769        0.0    ...         0.385   \n",
      "32         0.929   0.969523   0.653846        0.0    ...         0.500   \n",
      "...          ...        ...        ...        ...    ...           ...   \n",
      "96423      1.000   0.970231   0.730769        0.0    ...         0.966   \n",
      "96424      1.000   0.969925   0.730769        0.0    ...         1.000   \n",
      "96425      0.966   0.969409   0.730769        0.0    ...         1.000   \n",
      "96426      1.000   0.969093   0.730769        0.0    ...         0.966   \n",
      "96427      1.000   0.969189   0.730769        0.0    ...         1.000   \n",
      "96428      0.966   0.969380   0.653846        0.0    ...         1.000   \n",
      "96429      1.000   0.969753   0.730769        0.0    ...         0.966   \n",
      "96430      1.000   0.969657   0.730769        0.0    ...         1.000   \n",
      "96431      0.966   0.969705   0.730769        0.0    ...         1.000   \n",
      "96432      1.000   0.969676   0.230769        0.0    ...         0.941   \n",
      "96433      1.000   0.969590   0.230769        0.0    ...         0.959   \n",
      "96434      0.941   0.969715   0.230769        0.0    ...         0.983   \n",
      "96435      0.959   0.969552   0.230769        0.0    ...         0.929   \n",
      "96436      0.983   0.969409   0.230769        0.0    ...         0.983   \n",
      "96437      0.929   0.969581   0.230769        0.0    ...         0.977   \n",
      "96438      0.983   0.969686   0.230769        0.0    ...         0.929   \n",
      "96439      0.977   0.970250   0.730769        0.0    ...         1.000   \n",
      "96440      0.929   0.970279   0.730769        0.0    ...         1.000   \n",
      "96441      1.000   0.970451   0.730769        0.0    ...         0.966   \n",
      "96442      1.000   0.970632   0.730769        0.0    ...         1.000   \n",
      "96443      0.966   0.970431   0.730769        0.0    ...         1.000   \n",
      "96444      1.000   0.970345   0.730769        0.0    ...         0.966   \n",
      "96445      1.000   0.969877   0.730769        0.0    ...         1.000   \n",
      "96446      0.966   0.969686   0.730769        0.0    ...         1.000   \n",
      "96447      1.000   0.969218   0.730769        0.0    ...         0.966   \n",
      "96448      1.000   0.969027   0.730769        0.0    ...         1.000   \n",
      "96449      0.966   0.968893   0.730769        0.0    ...         1.000   \n",
      "96450      1.000   0.969122   0.730769        0.0    ...         0.966   \n",
      "96451      1.000   0.969399   0.730769        0.0    ...         1.000   \n",
      "96452      0.966   0.970164   0.730769        0.0    ...         1.000   \n",
      "\n",
      "       var8(t-1)   var1(t)  var2(t)   var3(t)  var4(t)   var5(t)   var6(t)  \\\n",
      "3       0.970909  0.730769      0.0  0.487805     0.83  0.220877  0.749304   \n",
      "4       0.971358  0.653846      0.0  0.495365     0.83  0.172970  0.721448   \n",
      "5       0.971454  0.730769      0.0  0.502925     0.85  0.218608  0.718663   \n",
      "6       0.971597  0.730769      0.0  0.478805     0.95  0.193646  0.721448   \n",
      "7       0.971655  0.730769      0.0  0.495635     0.89  0.221634  0.724234   \n",
      "8       0.971769  0.730769      0.0  0.528845     0.82  0.177257  0.721448   \n",
      "9       0.972276  0.730769      0.0  0.576636     0.72  0.196167  0.777159   \n",
      "10      0.972132  0.730769      0.0  0.612996     0.67  0.275088  0.807799   \n",
      "11      0.972324  0.730769      0.0  0.631266     0.54  0.309884  0.880223   \n",
      "12      0.972629  0.730769      0.0  0.641886     0.55  0.343671  0.782730   \n",
      "13      0.972486  0.730769      0.0  0.634326     0.51  0.324004  0.805014   \n",
      "14      0.972381  0.730769      0.0  0.659347     0.47  0.240797  0.729805   \n",
      "15      0.972085  0.730769      0.0  0.659887     0.46  0.162885  0.802228   \n",
      "16      0.971416  0.730769      0.0  0.602826     0.60  0.225668  0.699164   \n",
      "17      0.971110  0.653846      0.0  0.605436     0.63  0.174735  0.640669   \n",
      "18      0.971129  0.653846      0.0  0.584466     0.69  0.133384  0.454039   \n",
      "19      0.970794  0.653846      0.0  0.566466     0.70  0.119516  0.387187   \n",
      "20      0.970804  0.653846      0.0  0.540635     0.77  0.115734  0.409471   \n",
      "21      0.970823  0.653846      0.0  0.534695     0.76  0.077156  0.445682   \n",
      "22      0.970747  0.730769      0.0  0.517415     0.79  0.104135  0.454039   \n",
      "23      0.970393  0.653846      0.0  0.518765     0.77  0.061523  0.423398   \n",
      "24      0.970498  0.730769      0.0  0.522365     0.62  0.266011  0.417827   \n",
      "25      0.969437  0.730769      0.0  0.514085     0.66  0.269541  0.415042   \n",
      "26      0.969246  0.653846      0.0  0.534695     0.80  0.169440  0.454039   \n",
      "27      0.964000  0.730769      0.0  0.469445     0.79  0.173475  0.501393   \n",
      "28      0.969504  0.730769      0.0  0.452525     0.82  0.104135  0.448468   \n",
      "29      0.969485  0.730769      0.0  0.463505     0.83  0.203732  0.376045   \n",
      "30      0.969523  0.653846      0.0  0.471155     0.85  0.174987  0.392758   \n",
      "31      0.969552  0.653846      0.0  0.479885     0.83  0.200706  0.417827   \n",
      "32      0.969208  0.653846      0.0  0.513455     0.78  0.215330  0.445682   \n",
      "...          ...       ...      ...       ...      ...       ...       ...   \n",
      "96423   0.969409  0.730769      0.0  0.803888     0.32  0.048159  0.334262   \n",
      "96424   0.969093  0.730769      0.0  0.756998     0.51  0.000000  0.000000   \n",
      "96425   0.969189  0.730769      0.0  0.715867     0.58  0.052194  0.376045   \n",
      "96426   0.969380  0.653846      0.0  0.693997     0.64  0.050429  0.947075   \n",
      "96427   0.969753  0.730769      0.0  0.676357     0.71  0.049420  0.841226   \n",
      "96428   0.969657  0.730769      0.0  0.650797     0.77  0.050429  0.147632   \n",
      "96429   0.969705  0.730769      0.0  0.641166     0.81  0.046394  0.033426   \n",
      "96430   0.969676  0.230769      0.0  0.622806     0.87  0.053707  0.972145   \n",
      "96431   0.969590  0.230769      0.0  0.615066     0.87  0.057237  0.044568   \n",
      "96432   0.969715  0.230769      0.0  0.606156     0.87  0.051437  0.114206   \n",
      "96433   0.969552  0.230769      0.0  0.596706     0.93  0.050177  0.949861   \n",
      "96434   0.969409  0.230769      0.0  0.596796     0.90  0.042360  1.000000   \n",
      "96435   0.969581  0.230769      0.0  0.578256     0.93  0.074382  0.000000   \n",
      "96436   0.969686  0.230769      0.0  0.613896     0.88  0.043621  0.033426   \n",
      "96437   0.970250  0.730769      0.0  0.670417     0.75  0.058245  0.033426   \n",
      "96438   0.970279  0.730769      0.0  0.712177     0.65  0.121785  0.083565   \n",
      "96439   0.970451  0.730769      0.0  0.724057     0.59  0.100605  0.136490   \n",
      "96440   0.970632  0.730769      0.0  0.792098     0.42  0.188099  0.136490   \n",
      "96441   0.970431  0.730769      0.0  0.821168     0.37  0.218104  0.169916   \n",
      "96442   0.970345  0.730769      0.0  0.855639     0.33  0.244579  0.194986   \n",
      "96443   0.969877  0.730769      0.0  0.854019     0.28  0.231467  0.119777   \n",
      "96444   0.969686  0.730769      0.0  0.857079     0.28  0.242814  0.111421   \n",
      "96445   0.969218  0.730769      0.0  0.857079     0.28  0.217600  0.111421   \n",
      "96446   0.969027  0.730769      0.0  0.851949     0.28  0.222642  0.066852   \n",
      "96447   0.968893  0.730769      0.0  0.820718     0.32  0.191125  0.058496   \n",
      "96448   0.969122  0.730769      0.0  0.774998     0.43  0.172214  0.086351   \n",
      "96449   0.969399  0.730769      0.0  0.751778     0.48  0.158094  0.055710   \n",
      "96450   0.970164  0.730769      0.0  0.710557     0.56  0.140696  0.083565   \n",
      "96451   0.970642  0.730769      0.0  0.702187     0.60  0.164902  0.055710   \n",
      "96452   0.970919  0.730769      0.0  0.684637     0.61  0.092032  0.108635   \n",
      "\n",
      "       var7(t)   var8(t)  \n",
      "3        0.983  0.971358  \n",
      "4        0.983  0.971454  \n",
      "5        0.929  0.971597  \n",
      "6        0.620  0.971655  \n",
      "7        0.620  0.971769  \n",
      "8        0.620  0.972276  \n",
      "9        0.620  0.972132  \n",
      "10       0.696  0.972324  \n",
      "11       0.711  0.972629  \n",
      "12       0.700  0.972486  \n",
      "13       0.700  0.972381  \n",
      "14       0.711  0.972085  \n",
      "15       0.700  0.971416  \n",
      "16       0.700  0.971110  \n",
      "17       0.711  0.971129  \n",
      "18       0.696  0.970794  \n",
      "19       0.696  0.970804  \n",
      "20       0.685  0.970823  \n",
      "21       0.620  0.970747  \n",
      "22       0.983  0.970393  \n",
      "23       0.929  0.970498  \n",
      "24       0.983  0.969437  \n",
      "25       0.983  0.969246  \n",
      "26       0.929  0.964000  \n",
      "27       0.983  0.969504  \n",
      "28       0.983  0.969485  \n",
      "29       0.929  0.969523  \n",
      "30       0.385  0.969552  \n",
      "31       0.500  0.969208  \n",
      "32       0.620  0.969285  \n",
      "...        ...       ...  \n",
      "96423    1.000  0.969093  \n",
      "96424    1.000  0.969189  \n",
      "96425    0.966  0.969380  \n",
      "96426    1.000  0.969753  \n",
      "96427    1.000  0.969657  \n",
      "96428    0.966  0.969705  \n",
      "96429    1.000  0.969676  \n",
      "96430    1.000  0.969590  \n",
      "96431    0.941  0.969715  \n",
      "96432    0.959  0.969552  \n",
      "96433    0.983  0.969409  \n",
      "96434    0.929  0.969581  \n",
      "96435    0.983  0.969686  \n",
      "96436    0.977  0.970250  \n",
      "96437    0.929  0.970279  \n",
      "96438    1.000  0.970451  \n",
      "96439    1.000  0.970632  \n",
      "96440    0.966  0.970431  \n",
      "96441    1.000  0.970345  \n",
      "96442    1.000  0.969877  \n",
      "96443    0.966  0.969686  \n",
      "96444    1.000  0.969218  \n",
      "96445    1.000  0.969027  \n",
      "96446    0.966  0.968893  \n",
      "96447    1.000  0.969122  \n",
      "96448    1.000  0.969399  \n",
      "96449    0.966  0.970164  \n",
      "96450    1.000  0.970642  \n",
      "96451    1.000  0.970919  \n",
      "96452    0.964  0.971119  \n",
      "\n",
      "[96450 rows x 32 columns]\n"
     ]
    }
   ],
   "source": [
    "print(reframed)"
   ]
  },
  {
   "cell_type": "code",
   "execution_count": 739,
   "metadata": {},
   "outputs": [],
   "source": [
    "values = reframed.values"
   ]
  },
  {
   "cell_type": "code",
   "execution_count": 740,
   "metadata": {},
   "outputs": [],
   "source": [
    "n_train_hours=365*24"
   ]
  },
  {
   "cell_type": "code",
   "execution_count": 741,
   "metadata": {},
   "outputs": [],
   "source": [
    "train = values[:n_train_hours,:]\n",
    "test = values[n_train_hours:, : ]"
   ]
  },
  {
   "cell_type": "code",
   "execution_count": 742,
   "metadata": {},
   "outputs": [],
   "source": [
    "# split into input and outputs\n",
    "n_obs = n_hours * n_features\n",
    "train_X,train_Y = train[:,:n_obs],train[:,-6]   # as at 6th no. from last is temp. our o/p var\n",
    "test_X,test_Y = test[:,:n_obs],test[:,-6]"
   ]
  },
  {
   "cell_type": "code",
   "execution_count": 743,
   "metadata": {},
   "outputs": [
    {
     "name": "stdout",
     "output_type": "stream",
     "text": [
      "[0.5386554  0.53757536 0.5223652  ... 0.7105571  0.70218706 0.68463683]\n"
     ]
    }
   ],
   "source": [
    "print(test_Y)"
   ]
  },
  {
   "cell_type": "code",
   "execution_count": 744,
   "metadata": {},
   "outputs": [
    {
     "name": "stdout",
     "output_type": "stream",
     "text": [
      "(8760, 24) 8760 (8760,)\n"
     ]
    }
   ],
   "source": [
    "print(train_X.shape,len(train_X),train_Y.shape)"
   ]
  },
  {
   "cell_type": "code",
   "execution_count": 745,
   "metadata": {},
   "outputs": [
    {
     "name": "stdout",
     "output_type": "stream",
     "text": [
      "(8760, 3, 8) (8760,) (87690, 3, 8) (87690,)\n"
     ]
    }
   ],
   "source": [
    "# reshape input to be 3D [samples, timesteps, fetures]\n",
    "train_X = train_X.reshape((train_X.shape[0],n_hours,n_features))\n",
    "test_X = test_X.reshape((test_X.shape[0],n_hours,n_features))  # 24 = 3 * 8\n",
    "print(train_X.shape, train_Y.shape, test_X.shape, test_Y.shape)"
   ]
  },
  {
   "cell_type": "code",
   "execution_count": 746,
   "metadata": {},
   "outputs": [
    {
     "name": "stdout",
     "output_type": "stream",
     "text": [
      "16\n"
     ]
    }
   ],
   "source": [
    "hidden_nodes = int(2/3 * (train_X.shape[1] * train_X.shape[2]))\n",
    "print(hidden_nodes)"
   ]
  },
  {
   "cell_type": "code",
   "execution_count": 747,
   "metadata": {},
   "outputs": [],
   "source": [
    "# design network\n",
    "model = Sequential()\n",
    "model.add(LSTM(30, input_shape=(train_X.shape[1], train_X.shape[2])))    # input_shape=(no. of i/p, dimension), result=(1,50)\n",
    "# test\n",
    "model.add(Dense(256,name='FC1'))  #256\n",
    "model.add(Activation('relu'))\n",
    "model.add(Dropout(0.2))\n",
    "# end\n",
    "model.add(Dense(1,name='out_layer'))\n",
    "model.compile(loss='mean_squared_error',optimizer='adam', metrics=['mean_squared_error'])"
   ]
  },
  {
   "cell_type": "code",
   "execution_count": 748,
   "metadata": {},
   "outputs": [
    {
     "name": "stdout",
     "output_type": "stream",
     "text": [
      "_________________________________________________________________\n",
      "Layer (type)                 Output Shape              Param #   \n",
      "=================================================================\n",
      "lstm_40 (LSTM)               (None, 30)                4680      \n",
      "_________________________________________________________________\n",
      "FC1 (Dense)                  (None, 256)               7936      \n",
      "_________________________________________________________________\n",
      "activation_48 (Activation)   (None, 256)               0         \n",
      "_________________________________________________________________\n",
      "dropout_38 (Dropout)         (None, 256)               0         \n",
      "_________________________________________________________________\n",
      "out_layer (Dense)            (None, 1)                 257       \n",
      "=================================================================\n",
      "Total params: 12,873\n",
      "Trainable params: 12,873\n",
      "Non-trainable params: 0\n",
      "_________________________________________________________________\n"
     ]
    }
   ],
   "source": [
    "model.summary()"
   ]
  },
  {
   "cell_type": "code",
   "execution_count": 749,
   "metadata": {},
   "outputs": [
    {
     "name": "stdout",
     "output_type": "stream",
     "text": [
      "Train on 8760 samples, validate on 87690 samples\n",
      "Epoch 1/100\n",
      " - 8s - loss: 0.0527 - mean_squared_error: 0.0527 - val_loss: 0.0123 - val_mean_squared_error: 0.0123\n",
      "Epoch 2/100\n",
      " - 1s - loss: 0.0156 - mean_squared_error: 0.0156 - val_loss: 0.0115 - val_mean_squared_error: 0.0115\n",
      "Epoch 3/100\n",
      " - 1s - loss: 0.0104 - mean_squared_error: 0.0104 - val_loss: 0.0073 - val_mean_squared_error: 0.0073\n",
      "Epoch 4/100\n",
      " - 1s - loss: 0.0063 - mean_squared_error: 0.0063 - val_loss: 0.0025 - val_mean_squared_error: 0.0025\n",
      "Epoch 5/100\n",
      " - 1s - loss: 0.0042 - mean_squared_error: 0.0042 - val_loss: 0.0020 - val_mean_squared_error: 0.0020\n",
      "Epoch 6/100\n",
      " - 1s - loss: 0.0034 - mean_squared_error: 0.0034 - val_loss: 0.0019 - val_mean_squared_error: 0.0019\n",
      "Epoch 7/100\n",
      " - 1s - loss: 0.0031 - mean_squared_error: 0.0031 - val_loss: 0.0020 - val_mean_squared_error: 0.0020\n",
      "Epoch 8/100\n",
      " - 1s - loss: 0.0029 - mean_squared_error: 0.0029 - val_loss: 0.0020 - val_mean_squared_error: 0.0020\n",
      "Epoch 9/100\n",
      " - 1s - loss: 0.0027 - mean_squared_error: 0.0027 - val_loss: 0.0018 - val_mean_squared_error: 0.0018\n",
      "Epoch 10/100\n",
      " - 1s - loss: 0.0027 - mean_squared_error: 0.0027 - val_loss: 0.0021 - val_mean_squared_error: 0.0021\n",
      "Epoch 11/100\n",
      " - 1s - loss: 0.0027 - mean_squared_error: 0.0027 - val_loss: 0.0017 - val_mean_squared_error: 0.0017\n",
      "Epoch 12/100\n",
      " - 1s - loss: 0.0026 - mean_squared_error: 0.0026 - val_loss: 0.0020 - val_mean_squared_error: 0.0020\n",
      "Epoch 13/100\n",
      " - 1s - loss: 0.0027 - mean_squared_error: 0.0027 - val_loss: 0.0019 - val_mean_squared_error: 0.0019\n",
      "Epoch 14/100\n",
      " - 1s - loss: 0.0025 - mean_squared_error: 0.0025 - val_loss: 0.0015 - val_mean_squared_error: 0.0015\n",
      "Epoch 15/100\n",
      " - 1s - loss: 0.0025 - mean_squared_error: 0.0025 - val_loss: 0.0016 - val_mean_squared_error: 0.0016\n",
      "Epoch 16/100\n",
      " - 1s - loss: 0.0025 - mean_squared_error: 0.0025 - val_loss: 0.0016 - val_mean_squared_error: 0.0016\n",
      "Epoch 17/100\n",
      " - 2s - loss: 0.0028 - mean_squared_error: 0.0028 - val_loss: 0.0020 - val_mean_squared_error: 0.0020\n",
      "Epoch 18/100\n",
      " - 1s - loss: 0.0026 - mean_squared_error: 0.0026 - val_loss: 0.0016 - val_mean_squared_error: 0.0016\n",
      "Epoch 19/100\n",
      " - 1s - loss: 0.0024 - mean_squared_error: 0.0024 - val_loss: 0.0016 - val_mean_squared_error: 0.0016\n",
      "Epoch 20/100\n",
      " - 1s - loss: 0.0022 - mean_squared_error: 0.0022 - val_loss: 0.0013 - val_mean_squared_error: 0.0013\n",
      "Epoch 21/100\n",
      " - 2s - loss: 0.0022 - mean_squared_error: 0.0022 - val_loss: 0.0013 - val_mean_squared_error: 0.0013\n",
      "Epoch 22/100\n",
      " - 2s - loss: 0.0023 - mean_squared_error: 0.0023 - val_loss: 0.0015 - val_mean_squared_error: 0.0015\n",
      "Epoch 23/100\n",
      " - 2s - loss: 0.0023 - mean_squared_error: 0.0023 - val_loss: 0.0013 - val_mean_squared_error: 0.0013\n",
      "Epoch 24/100\n",
      " - 1s - loss: 0.0022 - mean_squared_error: 0.0022 - val_loss: 0.0012 - val_mean_squared_error: 0.0012\n",
      "Epoch 25/100\n",
      " - 2s - loss: 0.0021 - mean_squared_error: 0.0021 - val_loss: 0.0014 - val_mean_squared_error: 0.0014\n",
      "Epoch 26/100\n",
      " - 2s - loss: 0.0023 - mean_squared_error: 0.0023 - val_loss: 0.0014 - val_mean_squared_error: 0.0014\n",
      "Epoch 27/100\n",
      " - 2s - loss: 0.0022 - mean_squared_error: 0.0022 - val_loss: 0.0013 - val_mean_squared_error: 0.0013\n",
      "Epoch 28/100\n",
      " - 2s - loss: 0.0019 - mean_squared_error: 0.0019 - val_loss: 0.0011 - val_mean_squared_error: 0.0011\n",
      "Epoch 29/100\n",
      " - 2s - loss: 0.0019 - mean_squared_error: 0.0019 - val_loss: 0.0010 - val_mean_squared_error: 0.0010\n",
      "Epoch 30/100\n",
      " - 2s - loss: 0.0019 - mean_squared_error: 0.0019 - val_loss: 0.0011 - val_mean_squared_error: 0.0011\n",
      "Epoch 31/100\n",
      " - 1s - loss: 0.0021 - mean_squared_error: 0.0021 - val_loss: 0.0014 - val_mean_squared_error: 0.0014\n",
      "Epoch 32/100\n",
      " - 1s - loss: 0.0020 - mean_squared_error: 0.0020 - val_loss: 0.0011 - val_mean_squared_error: 0.0011\n",
      "Epoch 33/100\n",
      " - 1s - loss: 0.0021 - mean_squared_error: 0.0021 - val_loss: 0.0012 - val_mean_squared_error: 0.0012\n",
      "Epoch 34/100\n",
      " - 2s - loss: 0.0020 - mean_squared_error: 0.0020 - val_loss: 0.0010 - val_mean_squared_error: 0.0010\n",
      "Epoch 35/100\n",
      " - 2s - loss: 0.0020 - mean_squared_error: 0.0020 - val_loss: 0.0011 - val_mean_squared_error: 0.0011\n",
      "Epoch 36/100\n",
      " - 1s - loss: 0.0018 - mean_squared_error: 0.0018 - val_loss: 9.8176e-04 - val_mean_squared_error: 9.8176e-04\n",
      "Epoch 37/100\n",
      " - 1s - loss: 0.0017 - mean_squared_error: 0.0017 - val_loss: 9.7114e-04 - val_mean_squared_error: 9.7114e-04\n",
      "Epoch 38/100\n",
      " - 1s - loss: 0.0018 - mean_squared_error: 0.0018 - val_loss: 9.9345e-04 - val_mean_squared_error: 9.9345e-04\n",
      "Epoch 39/100\n",
      " - 1s - loss: 0.0018 - mean_squared_error: 0.0018 - val_loss: 8.9822e-04 - val_mean_squared_error: 8.9822e-04\n",
      "Epoch 40/100\n",
      " - 1s - loss: 0.0017 - mean_squared_error: 0.0017 - val_loss: 9.9059e-04 - val_mean_squared_error: 9.9059e-04\n",
      "Epoch 41/100\n",
      " - 1s - loss: 0.0019 - mean_squared_error: 0.0019 - val_loss: 0.0011 - val_mean_squared_error: 0.0011\n",
      "Epoch 42/100\n",
      " - 1s - loss: 0.0018 - mean_squared_error: 0.0018 - val_loss: 9.0659e-04 - val_mean_squared_error: 9.0659e-04\n",
      "Epoch 43/100\n",
      " - 1s - loss: 0.0016 - mean_squared_error: 0.0016 - val_loss: 9.2013e-04 - val_mean_squared_error: 9.2013e-04\n",
      "Epoch 44/100\n",
      " - 1s - loss: 0.0015 - mean_squared_error: 0.0015 - val_loss: 8.3408e-04 - val_mean_squared_error: 8.3408e-04\n",
      "Epoch 45/100\n",
      " - 1s - loss: 0.0015 - mean_squared_error: 0.0015 - val_loss: 9.0355e-04 - val_mean_squared_error: 9.0355e-04\n",
      "Epoch 46/100\n",
      " - 1s - loss: 0.0015 - mean_squared_error: 0.0015 - val_loss: 8.4073e-04 - val_mean_squared_error: 8.4073e-04\n",
      "Epoch 47/100\n",
      " - 1s - loss: 0.0016 - mean_squared_error: 0.0016 - val_loss: 9.0203e-04 - val_mean_squared_error: 9.0203e-04\n",
      "Epoch 48/100\n",
      " - 1s - loss: 0.0017 - mean_squared_error: 0.0017 - val_loss: 9.6846e-04 - val_mean_squared_error: 9.6846e-04\n",
      "Epoch 49/100\n",
      " - 1s - loss: 0.0017 - mean_squared_error: 0.0017 - val_loss: 9.3007e-04 - val_mean_squared_error: 9.3007e-04\n",
      "Epoch 50/100\n",
      " - 1s - loss: 0.0017 - mean_squared_error: 0.0017 - val_loss: 8.9163e-04 - val_mean_squared_error: 8.9163e-04\n",
      "Epoch 51/100\n",
      " - 1s - loss: 0.0017 - mean_squared_error: 0.0017 - val_loss: 8.9231e-04 - val_mean_squared_error: 8.9231e-04\n",
      "Epoch 52/100\n",
      " - 1s - loss: 0.0015 - mean_squared_error: 0.0015 - val_loss: 8.6046e-04 - val_mean_squared_error: 8.6046e-04\n",
      "Epoch 53/100\n",
      " - 1s - loss: 0.0014 - mean_squared_error: 0.0014 - val_loss: 7.5609e-04 - val_mean_squared_error: 7.5609e-04\n",
      "Epoch 54/100\n",
      " - 1s - loss: 0.0014 - mean_squared_error: 0.0014 - val_loss: 8.7226e-04 - val_mean_squared_error: 8.7226e-04\n",
      "Epoch 55/100\n",
      " - 1s - loss: 0.0016 - mean_squared_error: 0.0016 - val_loss: 0.0010 - val_mean_squared_error: 0.0010\n",
      "Epoch 56/100\n",
      " - 1s - loss: 0.0015 - mean_squared_error: 0.0015 - val_loss: 8.8261e-04 - val_mean_squared_error: 8.8261e-04\n",
      "Epoch 57/100\n",
      " - 1s - loss: 0.0014 - mean_squared_error: 0.0014 - val_loss: 8.2600e-04 - val_mean_squared_error: 8.2600e-04\n",
      "Epoch 58/100\n",
      " - 1s - loss: 0.0013 - mean_squared_error: 0.0013 - val_loss: 7.4148e-04 - val_mean_squared_error: 7.4148e-04\n",
      "Epoch 59/100\n",
      " - 1s - loss: 0.0013 - mean_squared_error: 0.0013 - val_loss: 7.9577e-04 - val_mean_squared_error: 7.9577e-04\n",
      "Epoch 60/100\n",
      " - 1s - loss: 0.0013 - mean_squared_error: 0.0013 - val_loss: 7.6752e-04 - val_mean_squared_error: 7.6752e-04\n",
      "Epoch 61/100\n",
      " - 1s - loss: 0.0013 - mean_squared_error: 0.0013 - val_loss: 8.3089e-04 - val_mean_squared_error: 8.3089e-04\n",
      "Epoch 62/100\n",
      " - 1s - loss: 0.0014 - mean_squared_error: 0.0014 - val_loss: 7.4609e-04 - val_mean_squared_error: 7.4609e-04\n",
      "Epoch 63/100\n",
      " - 1s - loss: 0.0014 - mean_squared_error: 0.0014 - val_loss: 8.1177e-04 - val_mean_squared_error: 8.1177e-04\n",
      "Epoch 64/100\n",
      " - 1s - loss: 0.0014 - mean_squared_error: 0.0014 - val_loss: 8.3189e-04 - val_mean_squared_error: 8.3189e-04\n",
      "Epoch 65/100\n",
      " - 1s - loss: 0.0013 - mean_squared_error: 0.0013 - val_loss: 7.8687e-04 - val_mean_squared_error: 7.8687e-04\n",
      "Epoch 66/100\n",
      " - 1s - loss: 0.0013 - mean_squared_error: 0.0013 - val_loss: 7.2794e-04 - val_mean_squared_error: 7.2794e-04\n",
      "Epoch 67/100\n",
      " - 1s - loss: 0.0012 - mean_squared_error: 0.0012 - val_loss: 7.0952e-04 - val_mean_squared_error: 7.0952e-04\n",
      "Epoch 68/100\n",
      " - 1s - loss: 0.0012 - mean_squared_error: 0.0012 - val_loss: 8.0203e-04 - val_mean_squared_error: 8.0203e-04\n",
      "Epoch 69/100\n",
      " - 1s - loss: 0.0013 - mean_squared_error: 0.0013 - val_loss: 8.4930e-04 - val_mean_squared_error: 8.4930e-04\n"
     ]
    },
    {
     "name": "stdout",
     "output_type": "stream",
     "text": [
      "Epoch 70/100\n",
      " - 1s - loss: 0.0014 - mean_squared_error: 0.0014 - val_loss: 8.4548e-04 - val_mean_squared_error: 8.4548e-04\n",
      "Epoch 71/100\n",
      " - 1s - loss: 0.0013 - mean_squared_error: 0.0013 - val_loss: 7.8995e-04 - val_mean_squared_error: 7.8995e-04\n",
      "Epoch 72/100\n",
      " - 1s - loss: 0.0013 - mean_squared_error: 0.0013 - val_loss: 8.6720e-04 - val_mean_squared_error: 8.6720e-04\n",
      "Epoch 73/100\n",
      " - 1s - loss: 0.0013 - mean_squared_error: 0.0013 - val_loss: 8.2007e-04 - val_mean_squared_error: 8.2007e-04\n",
      "Epoch 74/100\n",
      " - 1s - loss: 0.0012 - mean_squared_error: 0.0012 - val_loss: 7.2542e-04 - val_mean_squared_error: 7.2542e-04\n",
      "Epoch 75/100\n",
      " - 1s - loss: 0.0012 - mean_squared_error: 0.0012 - val_loss: 7.7859e-04 - val_mean_squared_error: 7.7859e-04\n",
      "Epoch 76/100\n",
      " - 1s - loss: 0.0012 - mean_squared_error: 0.0012 - val_loss: 7.2575e-04 - val_mean_squared_error: 7.2575e-04\n",
      "Epoch 77/100\n",
      " - 1s - loss: 0.0012 - mean_squared_error: 0.0012 - val_loss: 8.0527e-04 - val_mean_squared_error: 8.0527e-04\n",
      "Epoch 78/100\n",
      " - 1s - loss: 0.0012 - mean_squared_error: 0.0012 - val_loss: 7.5372e-04 - val_mean_squared_error: 7.5372e-04\n",
      "Epoch 79/100\n",
      " - 1s - loss: 0.0012 - mean_squared_error: 0.0012 - val_loss: 7.1309e-04 - val_mean_squared_error: 7.1309e-04\n",
      "Epoch 80/100\n",
      " - 1s - loss: 0.0011 - mean_squared_error: 0.0011 - val_loss: 7.6902e-04 - val_mean_squared_error: 7.6902e-04\n",
      "Epoch 81/100\n",
      " - 1s - loss: 0.0012 - mean_squared_error: 0.0012 - val_loss: 7.2323e-04 - val_mean_squared_error: 7.2323e-04\n",
      "Epoch 82/100\n",
      " - 1s - loss: 0.0012 - mean_squared_error: 0.0012 - val_loss: 8.0162e-04 - val_mean_squared_error: 8.0162e-04\n",
      "Epoch 83/100\n",
      " - 1s - loss: 0.0012 - mean_squared_error: 0.0012 - val_loss: 7.7253e-04 - val_mean_squared_error: 7.7253e-04\n",
      "Epoch 84/100\n",
      " - 1s - loss: 0.0011 - mean_squared_error: 0.0011 - val_loss: 7.8474e-04 - val_mean_squared_error: 7.8474e-04\n",
      "Epoch 85/100\n",
      " - 1s - loss: 0.0012 - mean_squared_error: 0.0012 - val_loss: 7.2642e-04 - val_mean_squared_error: 7.2642e-04\n",
      "Epoch 86/100\n",
      " - 1s - loss: 0.0012 - mean_squared_error: 0.0012 - val_loss: 7.4023e-04 - val_mean_squared_error: 7.4023e-04\n",
      "Epoch 87/100\n",
      " - 1s - loss: 0.0011 - mean_squared_error: 0.0011 - val_loss: 7.1308e-04 - val_mean_squared_error: 7.1308e-04\n",
      "Epoch 88/100\n",
      " - 1s - loss: 0.0011 - mean_squared_error: 0.0011 - val_loss: 7.5322e-04 - val_mean_squared_error: 7.5322e-04\n",
      "Epoch 89/100\n",
      " - 1s - loss: 0.0011 - mean_squared_error: 0.0011 - val_loss: 6.8754e-04 - val_mean_squared_error: 6.8754e-04\n",
      "Epoch 90/100\n",
      " - 1s - loss: 0.0011 - mean_squared_error: 0.0011 - val_loss: 7.1139e-04 - val_mean_squared_error: 7.1139e-04\n",
      "Epoch 91/100\n",
      " - 1s - loss: 0.0011 - mean_squared_error: 0.0011 - val_loss: 7.6510e-04 - val_mean_squared_error: 7.6510e-04\n",
      "Epoch 92/100\n",
      " - 1s - loss: 0.0011 - mean_squared_error: 0.0011 - val_loss: 7.8224e-04 - val_mean_squared_error: 7.8224e-04\n",
      "Epoch 93/100\n",
      " - 1s - loss: 0.0011 - mean_squared_error: 0.0011 - val_loss: 7.4493e-04 - val_mean_squared_error: 7.4493e-04\n",
      "Epoch 94/100\n",
      " - 1s - loss: 0.0011 - mean_squared_error: 0.0011 - val_loss: 8.0993e-04 - val_mean_squared_error: 8.0993e-04\n",
      "Epoch 95/100\n",
      " - 1s - loss: 0.0011 - mean_squared_error: 0.0011 - val_loss: 7.6217e-04 - val_mean_squared_error: 7.6217e-04\n",
      "Epoch 96/100\n",
      " - 2s - loss: 0.0011 - mean_squared_error: 0.0011 - val_loss: 7.2041e-04 - val_mean_squared_error: 7.2041e-04\n",
      "Epoch 97/100\n",
      " - 1s - loss: 0.0011 - mean_squared_error: 0.0011 - val_loss: 7.7299e-04 - val_mean_squared_error: 7.7299e-04\n",
      "Epoch 98/100\n",
      " - 1s - loss: 0.0011 - mean_squared_error: 0.0011 - val_loss: 7.3309e-04 - val_mean_squared_error: 7.3309e-04\n",
      "Epoch 99/100\n",
      " - 1s - loss: 0.0010 - mean_squared_error: 0.0010 - val_loss: 7.2222e-04 - val_mean_squared_error: 7.2222e-04\n",
      "Epoch 100/100\n",
      " - 1s - loss: 9.4122e-04 - mean_squared_error: 9.4122e-04 - val_loss: 7.0349e-04 - val_mean_squared_error: 7.0349e-04\n"
     ]
    }
   ],
   "source": [
    "# fit network\n",
    "history = model.fit(train_X, train_Y, epochs=100, batch_size=128, validation_data=(test_X, test_Y), verbose=2, shuffle=False)  #, verbose=2, shuffle=False"
   ]
  },
  {
   "cell_type": "code",
   "execution_count": 750,
   "metadata": {},
   "outputs": [
    {
     "data": {
      "image/png": "[encoded data removed]",
      "text/plain": [
       "<Figure size 432x288 with 1 Axes>"
      ]
     },
     "metadata": {
      "needs_background": "light"
     },
     "output_type": "display_data"
    }
   ],
   "source": [
    "# plot history\n",
    "pyplot.plot(history.history['loss'], label='train')\n",
    "pyplot.plot(history.history['val_loss'], label='test')\n",
    "pyplot.legend()\n",
    "pyplot.show()"
   ]
  },
  {
   "cell_type": "code",
   "execution_count": 751,
   "metadata": {},
   "outputs": [],
   "source": [
    "# make a prediction\n",
    "test_Y_predicted = model.predict(test_X)\n",
    "test_X = test_X.reshape((test_X.shape[0], n_hours*n_features))"
   ]
  },
  {
   "cell_type": "code",
   "execution_count": 752,
   "metadata": {},
   "outputs": [
    {
     "name": "stdout",
     "output_type": "stream",
     "text": [
      "[[0.48036286]\n",
      " [0.541106  ]\n",
      " [0.5421792 ]\n",
      " ...\n",
      " [0.71163416]\n",
      " [0.6750506 ]\n",
      " [0.6736934 ]]\n",
      "[0.5386554  0.53757536 0.5223652  ... 0.7105571  0.70218706 0.68463683]\n"
     ]
    }
   ],
   "source": [
    "print(test_Y_predicted)\n",
    "print(test_Y)"
   ]
  },
  {
   "cell_type": "code",
   "execution_count": 753,
   "metadata": {},
   "outputs": [
    {
     "data": {
      "text/plain": [
       "<matplotlib.legend.Legend at 0x17a2dbfb9e8>"
      ]
     },
     "execution_count": 753,
     "metadata": {},
     "output_type": "execute_result"
    },
    {
     "data": {
      "image/png": "[encoded data removed]",
      "text/plain": [
       "<Figure size 432x288 with 1 Axes>"
      ]
     },
     "metadata": {
      "needs_background": "light"
     },
     "output_type": "display_data"
    }
   ],
   "source": [
    "pyplot.plot(test_Y[:100],label=\"Actual\")\n",
    "pyplot.plot(test_Y_predicted[:100],label=\"Predicted\")\n",
    "pyplot.legend()"
   ]
  },
  {
   "cell_type": "code",
   "execution_count": 754,
   "metadata": {},
   "outputs": [
    {
     "data": {
      "text/plain": [
       "<matplotlib.legend.Legend at 0x17a286c4e80>"
      ]
     },
     "execution_count": 754,
     "metadata": {},
     "output_type": "execute_result"
    },
    {
     "data": {
      "image/png": "[encoded data removed]",
      "text/plain": [
       "<Figure size 432x288 with 1 Axes>"
      ]
     },
     "metadata": {
      "needs_background": "light"
     },
     "output_type": "display_data"
    }
   ],
   "source": [
    "pyplot.plot(test_Y[200:300],label=\"Actual\")\n",
    "pyplot.plot(test_Y_predicted[200:300],label=\"Predicted\")\n",
    "pyplot.legend()"
   ]
  },
  {
   "cell_type": "code",
   "execution_count": 755,
   "metadata": {},
   "outputs": [
    {
     "name": "stdout",
     "output_type": "stream",
     "text": [
      "[ 7.8295083 11.579046  11.645295  ... 22.105371  19.84715   19.763374 ]\n"
     ]
    }
   ],
   "source": [
    "# invert scaling for forecast\n",
    "vir_array= np.concatenate((test_X[:,-8:-6],test_Y_predicted),axis=1)\n",
    "inv_test_Y_predicted = np.concatenate((vir_array,test_X[:,-5:]),axis=1)\n",
    "inv_test_Y_predicted = scaler.inverse_transform(inv_test_Y_predicted)\n",
    "inv_test_Y_predicted = inv_test_Y_predicted[:,2]\n",
    "print(inv_test_Y_predicted)"
   ]
  },
  {
   "cell_type": "code",
   "execution_count": 756,
   "metadata": {},
   "outputs": [
    {
     "name": "stdout",
     "output_type": "stream",
     "text": [
      "[11.427777 11.361109 10.42222  ... 22.038887 21.522223 20.438887]\n"
     ]
    }
   ],
   "source": [
    "# invert scaling for actual\n",
    "test_Y = test_Y.reshape((len(test_Y), 1))\n",
    "vir_array2= np.concatenate((test_X[:,-8:-6],test_Y),axis=1)\n",
    "inv_test_Y = np.concatenate((vir_array2,test_X[:,-5:]),axis=1)\n",
    "inv_test_Y = scaler.inverse_transform(inv_test_Y)\n",
    "inv_test_Y = inv_test_Y[:,2]\n",
    "print(inv_test_Y)"
   ]
  },
  {
   "cell_type": "code",
   "execution_count": 757,
   "metadata": {},
   "outputs": [
    {
     "data": {
      "text/plain": [
       "<matplotlib.legend.Legend at 0x17a2874c4e0>"
      ]
     },
     "execution_count": 757,
     "metadata": {},
     "output_type": "execute_result"
    },
    {
     "data": {
      "image/png": "[encoded data removed]",
      "text/plain": [
       "<Figure size 432x288 with 1 Axes>"
      ]
     },
     "metadata": {
      "needs_background": "light"
     },
     "output_type": "display_data"
    }
   ],
   "source": [
    "pyplot.plot(inv_test_Y[:100],label=\"Actual\")\n",
    "pyplot.plot(inv_test_Y_predicted[:100],label=\"Predicted\")\n",
    "pyplot.legend()"
   ]
  },
  {
   "cell_type": "code",
   "execution_count": 758,
   "metadata": {},
   "outputs": [
    {
     "name": "stdout",
     "output_type": "stream",
     "text": [
      "Test RMSE: 1.637\n"
     ]
    }
   ],
   "source": [
    "# calculate RMSE\n",
    "from math import sqrt\n",
    "rmse = sqrt(mean_squared_error(inv_test_Y, inv_test_Y_predicted))\n",
    "print('Test RMSE: %.3f' % rmse) "
   ]
  },
  {
   "cell_type": "code",
   "execution_count": 759,
   "metadata": {},
   "outputs": [],
   "source": [
    "# comparing actual temperature and predicted temperature predicted using data of 3 previous hours\n",
    "df_result=pd.DataFrame({'Actual_Temperature':inv_test_Y,'Predicted_Temperature':inv_test_Y_predicted})"
   ]
  },
  {
   "cell_type": "code",
   "execution_count": 760,
   "metadata": {},
   "outputs": [
    {
     "data": {
      "text/html": [
       "<div>\n",
       "<style scoped>\n",
       "    .dataframe tbody tr th:only-of-type {\n",
       "        vertical-align: middle;\n",
       "    }\n",
       "\n",
       "    .dataframe tbody tr th {\n",
       "        vertical-align: top;\n",
       "    }\n",
       "\n",
       "    .dataframe thead th {\n",
       "        text-align: right;\n",
       "    }\n",
       "</style>\n",
       "<table border=\"1\" class=\"dataframe\">\n",
       "  <thead>\n",
       "    <tr style=\"text-align: right;\">\n",
       "      <th></th>\n",
       "      <th>Actual_Temperature</th>\n",
       "      <th>Predicted_Temperature</th>\n",
       "    </tr>\n",
       "  </thead>\n",
       "  <tbody>\n",
       "    <tr>\n",
       "      <th>0</th>\n",
       "      <td>11.427777</td>\n",
       "      <td>7.829508</td>\n",
       "    </tr>\n",
       "    <tr>\n",
       "      <th>1</th>\n",
       "      <td>11.361109</td>\n",
       "      <td>11.579046</td>\n",
       "    </tr>\n",
       "    <tr>\n",
       "      <th>2</th>\n",
       "      <td>10.422220</td>\n",
       "      <td>11.645295</td>\n",
       "    </tr>\n",
       "    <tr>\n",
       "      <th>3</th>\n",
       "      <td>10.833334</td>\n",
       "      <td>10.408445</td>\n",
       "    </tr>\n",
       "    <tr>\n",
       "      <th>4</th>\n",
       "      <td>10.911113</td>\n",
       "      <td>11.765799</td>\n",
       "    </tr>\n",
       "  </tbody>\n",
       "</table>\n",
       "</div>"
      ],
      "text/plain": [
       "   Actual_Temperature  Predicted_Temperature\n",
       "0           11.427777               7.829508\n",
       "1           11.361109              11.579046\n",
       "2           10.422220              11.645295\n",
       "3           10.833334              10.408445\n",
       "4           10.911113              11.765799"
      ]
     },
     "execution_count": 760,
     "metadata": {},
     "output_type": "execute_result"
    }
   ],
   "source": [
    "df_result.head()"
   ]
  },
  {
   "cell_type": "code",
   "execution_count": 761,
   "metadata": {},
   "outputs": [],
   "source": [
    "df_result.to_csv(\"weather_result.csv\")"
   ]
  },
  {
   "cell_type": "code",
   "execution_count": null,
   "metadata": {},
   "outputs": [],
   "source": []
  }
 ],
 "metadata": {
  "kernelspec": {
   "display_name": "Python 3",
   "language": "python",
   "name": "python3"
  },
  "language_info": {
   "codemirror_mode": {
    "name": "ipython",
    "version": 3
   },
   "file_extension": ".py",
   "mimetype": "text/x-python",
   "name": "python",
   "nbconvert_exporter": "python",
   "pygments_lexer": "ipython3",
   "version": "3.7.1"
  }
 },
 "nbformat": 4,
 "nbformat_minor": 2
}
